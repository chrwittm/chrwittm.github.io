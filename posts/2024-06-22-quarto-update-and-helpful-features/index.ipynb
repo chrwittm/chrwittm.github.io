{
 "cells": [
  {
   "cell_type": "raw",
   "metadata": {
    "vscode": {
     "languageId": "raw"
    }
   },
   "source": [
    "---\n",
    "title: \"Updating Quarto and Helpful Features\"\n",
    "author: \"Christian Wittmann\"\n",
    "date: \"2024-06-22\"\n",
    "categories: [blogging, quarto, update]\n",
    "image: \"quarto.png\"\n",
    "---"
   ]
  },
  {
   "cell_type": "markdown",
   "metadata": {},
   "source": [
    "After completing the blog post on [How LLMs are Trained](https://chrwittm.github.io/posts/2024-06-21-how-llms-are-trained/), I took some time for blog maintenance. A Quarto upgrade was necessary, and I also wanted to introduce you to some features I find worth noting."
   ]
  },
  {
   "cell_type": "markdown",
   "metadata": {},
   "source": [
    "## Updating Quarto\n",
    "\n",
    "Sometimes I find myself obsessing over minor details. While publishing the blog post on [How LLMs are Trained](https://chrwittm.github.io/posts/2024-06-21-how-llms-are-trained/), I noticed that the old Twitter logo needed to be updated to the new X logo. Although it seemed like a small task, it turned out to be more complicated than expected. The icons are standard [bootstrap icons](https://icons.getbootstrap.com), but the new icon ([`twitter-x`](https://icons.getbootstrap.com/icons/twitter-x/)) did not render correctly.\n",
    "\n",
    "Upon investigation, I [discovered](https://github.com/quarto-dev/quarto-cli/discussions/7284#discussioncomment-7324962) that my Quarto installation was outdated. Running `quarto --version` returned `1.3.450`, but the updated icon was only supported in version 1.4.\n",
    "\n",
    "Since this was my first Quarto update, I followed my own [guide to avoid disaster](https://chrwittm.github.io/posts/2022-10-21-how-i-created-this-blog/#step-5-avoiding-disaster) and pushed all my changes to GitHub. This way, if something went wrong, I wouldn't lose any data.\n",
    "\n",
    "As it turned out, the precautions were unnecessary, but beware of the [outcome bias](https://en.wikipedia.org/wiki/Outcome_bias) 😉. Anyway, here are the steps for updating Quarto:\n",
    "\n",
    "### Step 1: Update `nbdev`\n",
    "\n",
    "In analogy to the [initial installation](https://chrwittm.github.io/posts/2023-12-13-installing-fast-ai-on-apple-silicon/#installing-quarto-for-writing-this-blog), I upgraded `nbdev`:\n",
    "\n",
    "```bash\n",
    "mamba update nbdev -c fastai\n",
    "```\n",
    "\n",
    "### Step 2: Update Quarto\n",
    "\n",
    "To update Quarto, you should be in the home directory (`cd ~`):\n",
    "\n",
    "```bash\n",
    "nbdev_install_quarto\n",
    "```\n",
    "\n",
    "### Step 3: Verify the Update\n",
    "\n",
    "After the installation process is complete, verify that Quarto has been installed by checking its version:\n",
    "\n",
    "```bash\n",
    "quarto --version\n",
    "```\n",
    "\n",
    "I am now on version `1.4.555`, and the new X icon renders as it should 😀."
   ]
  },
  {
   "cell_type": "markdown",
   "metadata": {},
   "source": [
    "## Using Directives\n",
    "\n",
    "Working in Jupyter notebooks is great, but converting notebook 1:1 into blog posts I find sometimes challenging due to the technical nature of a notebook, making it hard to read. For example, sometimes I need a plot, but the code to create the plot does not add any value to the blog post. Creating the plot separately and using a screenshot felt inefficient, but apparently, I was not the only one thinking along these lines. [Directives](https://nbdev.fast.ai/explanations/directives.html) help solve these formatting challenges. Here are the directives I have used (and will most certainly use in future blog posts).\n",
    "\n",
    "### Hiding Cell Output (Displaying the Code)\n",
    "\n",
    "Some cells are quite verbose, outputting text that does not add any value to the blog post. One example would be initializing an LLM, for example in [Remembering the Wittmann Tours World Trip with RAG](https://chrwittm.github.io/posts/2024-03-22-rag1-remembering-world-trip/). The command `llm = Llama(model_path=\"llama-2-7b-chat.Q4_K_M.gguf\", n_ctx=4096, verbose=False)` outputs a lot of text, even though `verbose` is set to `False`. To silence the chatter, you can simply use the [output directive](https://nbdev.fast.ai/explanations/directives.html#output-truefalseasis). The first line of the cell in your Jupyter notebook needs to be:\n",
    "\n",
    "```python\n",
    "#| output: false\n",
    "```\n",
    "\n",
    "### Hiding the Code (Displaying the Output)\n",
    "\n",
    "In contrast, some cells contain code that isn't relevant, but you want the output to be rendered in your blog post. In [Visualizing Embeddings in 2D](https://chrwittm.github.io/posts/2024-03-15-embeddings/), I had several charts that required lengthy code to generate, but only the result was important. Use the [echo directive](https://nbdev.fast.ai/explanations/directives.html#echo-truefalse) to hide the code. The first line of the cell in your Jupyter notebook needs to be:\n",
    "\n",
    "```python\n",
    "#| echo: false\n",
    "```\n",
    "\n",
    "### Toggling Code (Code Fold)\n",
    "\n",
    "In other cases, the code might not be highly relevant, but you still want to include it in the blog post. To make displaying the code optional, use the [code fold directive](https://nbdev.fast.ai/explanations/directives.html#code-fold-showtrue). The first line of the cell in your Jupyter notebook needs to be:\n",
    "\n",
    "```python\n",
    "#| code-fold: true\n",
    "```"
   ]
  },
  {
   "cell_type": "markdown",
   "metadata": {},
   "source": [
    "## Including Mermaid Charts/Diagrams\n",
    "\n",
    "[Mermaid](https://mermaid.js.org/intro/) charts or diagrams are my go-to choice for visualizations in markdown and Jupyter notebooks because the programmatic approach saves a lot of time compared to tedious PowerPoint editing. When including a mermaid diagram in a Jupyter notebook for a blog post, a code block starting with ` ```mermaid`, however, does not rendered correctly. To use a [mermaid code block](https://quarto.org/docs/authoring/diagrams.html#mermaid) in the context of [Quarto](https://mine-cetinkaya-rundel.github.io/quarto-tip-a-day/posts/21-diagrams/), it needs to use additional curly braces `{}` like this:\n",
    "\n",
    "\n",
    "````\n",
    "```{mermaid}\n",
    "\n",
    "  put mermaid diagram here\n",
    "\n",
    "```\n",
    "````\n",
    "\n",
    "P.S.: Thanks to [Christian Long](https://meta.stackexchange.com/a/300821) for the markdown syntax to render a complete code block.\n"
   ]
  }
 ],
 "metadata": {
  "kernelspec": {
   "display_name": "Python 3.10.4 64-bit",
   "language": "python",
   "name": "python3"
  },
  "language_info": {
   "codemirror_mode": {
    "name": "ipython",
    "version": 3
   },
   "file_extension": ".py",
   "mimetype": "text/x-python",
   "name": "python",
   "nbconvert_exporter": "python",
   "pygments_lexer": "ipython3",
   "version": "3.10.4"
  },
  "orig_nbformat": 4,
  "vscode": {
   "interpreter": {
    "hash": "d9da906b64701e68312bc07fbc15a3a13814f930718c2c6b0e41a29d035806a3"
   }
  }
 },
 "nbformat": 4,
 "nbformat_minor": 2
}
