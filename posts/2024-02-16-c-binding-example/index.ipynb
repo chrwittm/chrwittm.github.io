{
 "cells": [
  {
   "cell_type": "raw",
   "metadata": {},
   "source": [
    "---\n",
    "title: \"How to Implement a C Binding in Python with ctypes\"\n",
    "author: \"Christian Wittmann\"\n",
    "date: \"2024-02-16\"\n",
    "categories: [c, binding, llama.cpp, llm]\n",
    "image: \"c-binding-python.png\"\n",
    "---"
   ]
  },
  {
   "cell_type": "markdown",
   "metadata": {},
   "source": [
    "How can compute intensive large language models (LLMs) run on consumer-grade laptops? C bindings are part of this magic, they create wrappers around the C code to make is accessible in higher-level languages like Python. While it might sound complicated, the concept is surprisingly accessible with the right approach. Let's explore a simple example to how to utilize the `ctypes` library to implement a C bindings in Python.\n",
    "\n",
    "In my [previous blog post](https://chrwittm.github.io/posts/2024-02-15-running-llama2-on-mac/), I demonstrated how you can use [`llama-cpp-python`](https://github.com/abetlen/llama-cpp-python) to run a llama2-model using [`llama.cpp`](https://github.com/ggerganov/llama.cpp). To understand how the interface between these 2 project works, I created a simple C library to unveil some of the underlying \"magic\".\n",
    "\n",
    "The Python `ctypes`-library is the bridge between the to worlds, and in this notebook, we first create and compile a simple function written in C that accepts an `int32_t` value and returns its square. Subsequently, we use this function from python to learn how to implement the C binding via the `ctypes`-library.\n",
    "\n",
    "While I wrote this notebook on macOS, the principles and techniques are universally applicable, with slight adjustments for Linux or Windows environments.\n",
    "\n",
    "A final note before we get started: You can find the [notebook version of this blog post](https://github.com/chrwittm/lm-hackers/blob/main/20-local-llama-on-mac/25-c-binding-example.ipynb) on my GitHub."
   ]
  },
  {
   "cell_type": "markdown",
   "metadata": {},
   "source": [
    "<style>\n",
    "  figure {\n",
    "    display: block;\n",
    "    margin-left: auto;\n",
    "    margin-right: auto;\n",
    "    text-align: center;\n",
    "  }\n",
    "</style>\n",
    "\n",
    "<figure>\n",
    "    <img src=\"c-binding-python.png\" alt=\"Dalle: A Python snake winding around a letter C\" style=\"width:50%;\">\n",
    "    <figcaption>Dalle: A Python snake winding around a letter C</figcaption>\n",
    "</figure>"
   ]
  },
  {
   "cell_type": "markdown",
   "metadata": {},
   "source": [
    "## Step 1: Create the C Code Library\n",
    "\n",
    "Create a file named `example.c` with the following content:\n",
    "\n",
    "```c\n",
    "#include <stdint.h>\n",
    "\n",
    "int32_t square(int32_t number) {\n",
    "    return number * number;\n",
    "}\n",
    "```\n",
    "\n",
    "Next, compile this C code into a shared library via the terminal\n",
    "\n",
    "```bash\n",
    "# Linux / so -> shared object\n",
    "gcc -shared -fpic -o libexample.so example.c\n",
    "# macOS / dylib -> dynamic library\n",
    "gcc -shared -fpic -o libexample.dylib example.c\n",
    "# Windows / dll -> dynamic-link library\n",
    "gcc -shared -o example.dll example.c\n",
    "```\n",
    "\n",
    "Before we run the command, let's break it down:\n",
    "\n",
    "- `gcc` stands for \"GNU Compiler Collection\", and it can compile C by default.\n",
    "- `-shared` creates a \"shared library\". In Python analogy, this is like a module which can be imported.\n",
    "- `-fpic` creates \"Position-Independent Code\" (PIC), removing any absolute memory references and making them relative.\n",
    "- For C developers, it is good practice to prefix the name of shared libraries (dynamic libraries) with \"lib\", hence `example.c` becomes `libexample.xxx`\n",
    "\n",
    "Since I am running on a Mac, I use the following command to compile my library:"
   ]
  },
  {
   "cell_type": "markdown",
   "metadata": {},
   "source": []
  },
  {
   "cell_type": "code",
   "execution_count": 3,
   "metadata": {},
   "outputs": [],
   "source": [
    "!gcc -shared -fpic -o libexample.dylib example.c"
   ]
  },
  {
   "cell_type": "markdown",
   "metadata": {},
   "source": [
    "As a result, I get a new file called `libexample.dylib`."
   ]
  },
  {
   "cell_type": "markdown",
   "metadata": {},
   "source": [
    "## Step 2: Python Code\n",
    "\n",
    "To call this function from Python, we need to do couple of steps.\n",
    "\n",
    "First, we need to load the shared libaray via the `ctypes.CDLL`-method to access our square function:"
   ]
  },
  {
   "cell_type": "code",
   "execution_count": 29,
   "metadata": {},
   "outputs": [],
   "source": [
    "import ctypes\n",
    "\n",
    "libexample = ctypes.CDLL('./libexample.dylib')  # Use appropriate file name on your system"
   ]
  },
  {
   "cell_type": "markdown",
   "metadata": {},
   "source": [
    "Next, let's create an object which represents a 32-bit integer which corresponds to the C type `int32_t`. This is the type we used in our example C code."
   ]
  },
  {
   "cell_type": "code",
   "execution_count": 30,
   "metadata": {},
   "outputs": [],
   "source": [
    "c_int32_type = ctypes.c_int32"
   ]
  },
  {
   "cell_type": "markdown",
   "metadata": {},
   "source": [
    "Preparing for the call to C, we need to specify the arguments and return type of the C function so that the variables can be converted correctly:\n",
    "\n",
    "- The arguments `argtypes` are passed in a list, because there could be more arguments (depending on the function).\n",
    "- The result type `restype` is just a single value, because a function returns exactly one result."
   ]
  },
  {
   "cell_type": "code",
   "execution_count": 31,
   "metadata": {},
   "outputs": [],
   "source": [
    "libexample.square.argtypes = [c_int32_type]\n",
    "libexample.square.restype = c_int32_type"
   ]
  },
  {
   "cell_type": "markdown",
   "metadata": {},
   "source": [
    "We want to calculate the square of a `number_to_be_squared`. This Python variable first needs to be converted into a proper int32 representation:"
   ]
  },
  {
   "cell_type": "code",
   "execution_count": 32,
   "metadata": {},
   "outputs": [],
   "source": [
    "number_to_be_squared = 7\n",
    "input_value = c_int32_type(number_to_be_squared)"
   ]
  },
  {
   "cell_type": "markdown",
   "metadata": {},
   "source": [
    "Finally, we can call the C function:"
   ]
  },
  {
   "cell_type": "code",
   "execution_count": 33,
   "metadata": {},
   "outputs": [
    {
     "name": "stdout",
     "output_type": "stream",
     "text": [
      "The square of 7 is 49.\n"
     ]
    }
   ],
   "source": [
    "result = libexample.square(input_value)\n",
    "print(f\"The square of {input_value.value} is {result}.\")"
   ]
  },
  {
   "cell_type": "markdown",
   "metadata": {},
   "source": [
    "Note that the input type is a C type, therefore we need to use `.value` to access the Python equivalent, and the result is automatically converted to a Python type:"
   ]
  },
  {
   "cell_type": "code",
   "execution_count": 34,
   "metadata": {},
   "outputs": [
    {
     "name": "stdout",
     "output_type": "stream",
     "text": [
      "The input value type is <class 'ctypes.c_int'>\n",
      "The result value type is <class 'int'>\n"
     ]
    }
   ],
   "source": [
    "print(f\"The input value type is {type(input_value)}\")\n",
    "print(f\"The result value type is {type(result)}\")"
   ]
  },
  {
   "cell_type": "markdown",
   "metadata": {},
   "source": [
    "## Wrapping up\n",
    "\n",
    "This tiny example demonstrated how a C binding works and which steps are needed to call C code from Python. Although aligning the types between Python and C requires some effort, the payoff is significantly enhanced performance for compute-intensive tasks like neural net inference. While introducing additional complexity, the C binding [`llama-cpp-python`](https://github.com/abetlen/llama-cpp-python) makes it possible to run a llama2-model via [`llama.cpp`](https://github.com/ggerganov/llama.cpp) directly from Python, even on a consumer laptop."
   ]
  }
 ],
 "metadata": {
  "kernelspec": {
   "display_name": "base",
   "language": "python",
   "name": "python3"
  },
  "language_info": {
   "codemirror_mode": {
    "name": "ipython",
    "version": 3
   },
   "file_extension": ".py",
   "mimetype": "text/x-python",
   "name": "python",
   "nbconvert_exporter": "python",
   "pygments_lexer": "ipython3",
   "version": "3.1.0"
  }
 },
 "nbformat": 4,
 "nbformat_minor": 2
}
