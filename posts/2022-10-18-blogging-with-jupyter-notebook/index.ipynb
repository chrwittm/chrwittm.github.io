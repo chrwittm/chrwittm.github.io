{
 "cells": [
  {
   "cell_type": "raw",
   "metadata": {},
   "source": [
    "---\n",
    "title: \"Creating a Blog Post using a Jupyter Notebook\"\n",
    "author: \"Christian Wittmann\"\n",
    "date: \"2022-10-18\"\n",
    "categories: [blogging, quarto, jupyter]\n",
    "image: \"jupyter_logo.png\"\n",
    "---"
   ]
  },
  {
   "cell_type": "markdown",
   "metadata": {},
   "source": [
    "This is somehow a \"Hello World\"-notebook, since its only purpose is to demonstrate how you can use a jupyter notebook to write a blog post using Quarto.\n",
    "\n",
    "Somehow I did not find the key ingredient in the Quarto docs, but in this [blog post](https://towardsdatascience.com/quarto-a-game-changer-for-rendering-jupyter-notebooks-826c885a531f): To get the necessary header data into the jupyter notebook, you need to add a RAW-cell at the top which contains the metadata. This is how this cell looks like in this notebook ([and here is an hello-world example](https://github.com/chrwittm/chrwittm.github.io/tree/main/nbs/hello-world)):\n",
    "\n",
    "```RAW\n",
    "---\n",
    "title: \"Creating a Blog Post using a Jupyter Notebook\"\n",
    "author: \"Christian Wittmann\"\n",
    "date: \"2022-10-18\"\n",
    "categories: [blogging, quarto, jupyter]\n",
    "image: \"jupyter_logo.png\"\n",
    "---\n",
    "```"
   ]
  },
  {
   "cell_type": "markdown",
   "metadata": {},
   "source": [
    "## Jupyter Notebook (.ipynb) vs. Quarto (.qmd)\n",
    "\n",
    "For my current use case of blogging I prefer the jupyter notebooks, and I will most likely write all future blog posts in jupyter notebooks because of the following:\n",
    "\n",
    "* My [spell checking addon for VS Code](https://marketplace.visualstudio.com/items?itemName=streetsidesoftware.code-spell-checker) does not support `.qmd` files.\n",
    "* With jupyter notebook there is no need to render the files, rendering is instant in jupyter notebook when you execute the cell.\n",
    "* Jupyter notebook is the same environment when I code, no need to adjust (even if only slightly)\n",
    "\n",
    "Of course, all of this is very personal and a current snapshot of preferences (as a beginner) - let's see if this solidifies or changes."
   ]
  },
  {
   "cell_type": "markdown",
   "metadata": {},
   "source": [
    "## How is code rendered?\n",
    "\n",
    "Let's try out a little bit of code:"
   ]
  },
  {
   "cell_type": "markdown",
   "metadata": {},
   "source": [
    "### Hello World"
   ]
  },
  {
   "cell_type": "code",
   "execution_count": 1,
   "metadata": {},
   "outputs": [
    {
     "name": "stdout",
     "output_type": "stream",
     "text": [
      "Hello World!\n"
     ]
    }
   ],
   "source": [
    "print(\"Hello World!\")"
   ]
  },
  {
   "cell_type": "markdown",
   "metadata": {},
   "source": [
    "### Calculations"
   ]
  },
  {
   "cell_type": "code",
   "execution_count": 1,
   "metadata": {},
   "outputs": [
    {
     "name": "stdout",
     "output_type": "stream",
     "text": [
      "3\n"
     ]
    }
   ],
   "source": [
    "a = 1\n",
    "b = 2\n",
    "c = a+b\n",
    "print(c)"
   ]
  },
  {
   "cell_type": "markdown",
   "metadata": {},
   "source": [
    "### Plotting"
   ]
  },
  {
   "cell_type": "code",
   "execution_count": 1,
   "metadata": {},
   "outputs": [
    {
     "data": {
      "image/png": "[encoded data removed]",
      "text/plain": [
       "<Figure size 432x288 with 1 Axes>"
      ]
     },
     "metadata": {
      "needs_background": "light"
     },
     "output_type": "display_data"
    }
   ],
   "source": [
    "import matplotlib.pyplot as plt\n",
    "\t\n",
    "x = [1,2,3]\n",
    "y = [2,4,1]\n",
    "\t\n",
    "plt.plot(x, y)\n",
    "\t\n",
    "plt.xlabel('x - axis')\n",
    "plt.ylabel('y - axis')\n",
    "plt.title('Sample graph')\n",
    "\t\n",
    "plt.show()\n"
   ]
  }
 ],
 "metadata": {
  "kernelspec": {
   "display_name": "Python 3.10.4 64-bit",
   "language": "python",
   "name": "python3"
  },
  "language_info": {
   "codemirror_mode": {
    "name": "ipython",
    "version": 3
   },
   "file_extension": ".py",
   "mimetype": "text/x-python",
   "name": "python",
   "nbconvert_exporter": "python",
   "pygments_lexer": "ipython3",
   "version": "3.10.4"
  },
  "orig_nbformat": 4,
  "vscode": {
   "interpreter": {
    "hash": "d9da906b64701e68312bc07fbc15a3a13814f930718c2c6b0e41a29d035806a3"
   }
  }
 },
 "nbformat": 4,
 "nbformat_minor": 2
}
