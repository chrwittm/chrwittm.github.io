{
 "cells": [
  {
   "cell_type": "raw",
   "metadata": {},
   "source": [
    "---\n",
    "title: \"When disaster strikes: Re-building a Quarto Blog\"\n",
    "author: \"Christian Wittmann\"\n",
    "date: \"2022-10-27\"\n",
    "categories: [blogging, quarto, jupyter]\n",
    "image: \"quarto.png\"\n",
    "---"
   ]
  },
  {
   "cell_type": "markdown",
   "metadata": {},
   "source": [
    "For the last 2 months I have been a proud writer of [this blog](https://chrwittm.github.io/posts/2022-10-21-how-i-created-this-blog/), until yesterday disaster struck: Upon publishing of my [MNIST-blog post](https://chrwittm.github.io/posts/2022-11-26-mnist/) via the usual `quarto publish gh-pages`, I received the following error message 😨:\n",
    "\n",
    "```\n",
    "fatal: 'gh-pages' is already checked out at /mnt/c/Users/chrwi/OneDrive/Dokumente/GitRepos/chrwittm.github.io/bc75ca74\n",
    "```\n",
    "\n",
    "The publishing was not completed, and my blog only showed a naked header, but no posts any more, essentially everything was gone 😱 (at least online)\n",
    "\n",
    "Trying to google a quick fix did not reveal any real result. Due to lack of time, I had to (officially) stop for the day, but back in my mind, this was really nagging me..."
   ]
  },
  {
   "cell_type": "markdown",
   "metadata": {},
   "source": [
    "## What is needed to Re-build a Quarto Blog?\n",
    "\n",
    "As I kept thinking about this, the error message clearly pointed to something on my local machine. Additionally, I previously posted on [how to avoid disaster](https://chrwittm.github.io/posts/2022-10-21-how-i-created-this-blog/#step-5-avoiding-disaster), so what would be the best way to re-build everything?\n",
    "\n",
    "But let's think through the matter: What do you actually need to re-build a Quarto blog? You only need your `posts`-directory and a few other files (the ones mentioned [here](https://chrwittm.github.io/posts/2022-10-21-how-i-created-this-blog/#step-5-avoiding-disaster)).\n",
    "\n",
    "This is important, so let me re-phrase this: On your GitHub repo, there are (should be) 2 versions of your blog:\n",
    "\n",
    "* In the `main`-branch, you store your **source**-files:\n",
    "  * The Jupyter notebooks, markdown files, some pictures used within your posts\n",
    "  * The configuration files: Some `.yml`-, `.qmd`- and `.css`-files\n",
    "* The `gh-pages` branch gets generated to contain the **rendered** versions of your posts: When you check out your `_site` directory, it contains a file structure similar to the `posts`-directory in your `main`-branch, but the `_site` directory deals in `html`-, `xml`-, and `json`-files.\n",
    "\n",
    "Therefore, to re-build your site, as far as I understand it, you only need the content of your main branch, and the content of the `gh-pages` gets generated once you run `quarto publish gh-pages`."
   ]
  },
  {
   "cell_type": "markdown",
   "metadata": {},
   "source": [
    "## Re-building my Quarto Blog\n",
    "\n",
    "With the above in mind, here is what I did:\n",
    "\n",
    "* I moved my local copy of the blog's repo's main branch to my temp folder (the milder version of deleting it)\n",
    "* I re-cloned the repo (the main branch): `git clone git@github.com:chrwittm/chrwittm.github.io.git`\n",
    "* I re-published the blog: `quarto publish gh-pages`\n",
    "\n",
    "And violà: [My blog](https://chrwittm.github.io/) was back online. 😃"
   ]
  },
  {
   "cell_type": "markdown",
   "metadata": {},
   "source": [
    "## Conclusion\n",
    "\n",
    "First of all: With these kind of seeming disasters: Sit back and relax: Is this a big deal? Well my blog was down, who cared? Probably I cared the most about it - my ego 😉. \n",
    "\n",
    "Don't panic: Think through a problem: What could be the root cause, from what angle can you approach the problem?\n",
    "\n",
    "I think, the solution is actually really nice. The setup with the 2 branches has some nice redundancy built-in, and without having tried it before, the disaster recovery performed very well.\n",
    "\n",
    "The solution also reminded me of the [fast-setup](https://github.com/fastai/fastsetup) approach, which Jeremy discussed in the [Live-Coding session 1](https://www.youtube.com/watch?v=56sIyFjihEc&t=2452s): You should spend time using your tools, not configuring them. Quarto, at least to me, nicely proved that point that even if something goes wrong, you can quickly recover. \n",
    "\n",
    "Happy blogging!"
   ]
  }
 ],
 "metadata": {
  "kernelspec": {
   "display_name": "Python 3.10.4 64-bit",
   "language": "python",
   "name": "python3"
  },
  "language_info": {
   "codemirror_mode": {
    "name": "ipython",
    "version": 3
   },
   "file_extension": ".py",
   "mimetype": "text/x-python",
   "name": "python",
   "nbconvert_exporter": "python",
   "pygments_lexer": "ipython3",
   "version": "3.10.4"
  },
  "orig_nbformat": 4,
  "vscode": {
   "interpreter": {
    "hash": "d9da906b64701e68312bc07fbc15a3a13814f930718c2c6b0e41a29d035806a3"
   }
  }
 },
 "nbformat": 4,
 "nbformat_minor": 2
}
