{
 "cells": [
  {
   "cell_type": "raw",
   "metadata": {
    "vscode": {
     "languageId": "raw"
    }
   },
   "source": [
    "---\n",
    "title: \"How to Run JavaScript in a Jupyter Notebook\"\n",
    "author: \"Christian Wittmann\"\n",
    "date: \"2024-10-22\"\n",
    "categories: [javascript, jupyter]\n",
    "image: \"jupyter-js-logo.png\"\n",
    "---"
   ]
  },
  {
   "cell_type": "markdown",
   "metadata": {
    "vscode": {
     "languageId": "javascript"
    }
   },
   "source": [
    "I decided it was time to learn some JavaScript. Since I'm used to working in Jupyter notebooks for exploratory coding in Python, and my blog is also entirely written in Jupyter notebooks, I explored how to run a JavaScript kernel within a Jupyter notebook. While I realize this is not a common way to write JavaScript code, it’s a practical solution for embedding real JavaScript code directly into my blog posts, which are themselves built with Jupyter.\n",
    "\n",
    "First, we will install `IJavascript`, a Jupyter kernel that enables running JavaScript code directly within Jupyter notebooks. After the setup, we will explore some basics of JavaScript, and I'll share some of my first lessons learned from using JavaScript in Jupyter notebooks, drawing comparisons to Python along the way."
   ]
  },
  {
   "cell_type": "markdown",
   "metadata": {
    "vscode": {
     "languageId": "raw"
    }
   },
   "source": [
    "<style>\n",
    "  figure {\n",
    "    display: block;\n",
    "    margin-left: auto;\n",
    "    margin-right: auto;\n",
    "    text-align: center;\n",
    "  }\n",
    "</style>\n",
    "\n",
    "<figure>\n",
    "    <img src=\"jupyter-js-logo.png\" alt=\"Combination of Jupyter and JavaScript logo\" style=\"width:50%;\">\n",
    "    <figcaption>Combination of Jupyter and JavaScript logo</figcaption>\n",
    "</figure>"
   ]
  },
  {
   "cell_type": "markdown",
   "metadata": {},
   "source": [
    "## Installation of `IJavascript`\n",
    "\n",
    "Before we can install `IJavascript`, we need to set up some basic components for JavaScript development:\n",
    "\n",
    "- Node.js as the JavaScript runtime\n",
    "- NPM (Node Package Manager) for installing packages\n",
    "- NVM (Node Version Manager) to manage different versions of Node.js\n",
    "\n",
    "While it is possible to install `IJavascript` directly after setting up these components, I encountered some dependency issues during the process. To resolve these, I switched to the latest LTS (Long-Term Support) version of Node.js. At the time of writing, this step was necessary, but it may become obsolete in future versions.\n",
    "\n",
    "> Note: Everything I describe in this blog post is based on macOS. If you're using Windows or Linux and have adapted this approach, I’d love to hear about your experience."
   ]
  },
  {
   "cell_type": "markdown",
   "metadata": {},
   "source": [
    "### Xcode Command Line Tools\n",
    "\n",
    "The Xcode Command Line Tools are a set of macOS development tools that provide essential software for compiling code and performing development tasks.\n",
    "\n",
    "To check if they are installed, run:\n",
    "\n",
    "```bash\n",
    "xcode-select -p\n",
    "```\n",
    "\n",
    "If they are not installed, you can install them by running:\n",
    "\n",
    "```bash\n",
    "xcode-select --install\n",
    "```"
   ]
  },
  {
   "cell_type": "markdown",
   "metadata": {},
   "source": [
    "### NVM (Node Version Manager)\n",
    "\n",
    "We will use NVM (Node Version Manager) to set up our JavaScript environment. This is the preferred method over installing via Homebrew because NVM allows you to easily switch between different versions of Node.js. Additionally, when installing `IJavascript`, I encountered dependency issues with the latest version of Node.js. Therefore, we need to install the latest LTS (Long-Term Support) version of Node.js in the next step.\n",
    "\n",
    "To check if NVM is installed, run:\n",
    "\n",
    "```bash\n",
    "nvm -v\n",
    "```\n",
    "\n",
    "If NVM is not installed, you can install it by running:\n",
    "\n",
    "```bash\n",
    "curl -o- https://raw.githubusercontent.com/nvm-sh/nvm/v0.39.1/install.sh | bash\n",
    "```\n",
    "\n",
    "After installation, load `nvm` into your current terminal session by running:\n",
    "\n",
    "```bash\n",
    "source ~/.bashrc   # if you use bash\n",
    "source ~/.zshrc    # if you use zsh\n",
    "```"
   ]
  },
  {
   "cell_type": "markdown",
   "metadata": {},
   "source": [
    "### Installation of latest LTS (Long-Term Support) version of Node.js\n",
    "\n",
    "If you are new to NVM and previously installed Node.js via Homebrew, it’s recommended to uninstall the Homebrew version to avoid conflicts:\n",
    "\n",
    "```bash\n",
    "brew uninstall node\n",
    "```\n",
    "\n",
    "To resolve dependency issues, I switched to the latest LTS (Long-Term Support) version of Node.js. Use `nvm` to install and activate this version:\n",
    "\n",
    "```bash\n",
    "nvm install --lts`\n",
    "nvm use --lts`\n",
    "```\n",
    "\n",
    "You can verify the installed versions of Node.js and NPM by running:\n",
    "\n",
    "```bash\n",
    "node -v\n",
    "npm -v\n",
    "```\n",
    "\n",
    "After installing the LTS version, it's a good idea to update npm to the latest version:\n",
    "```bash\n",
    "npm install -g npm@latest\n",
    "```"
   ]
  },
  {
   "cell_type": "markdown",
   "metadata": {},
   "source": [
    "### Installation of `IJavascript`\n",
    "\n",
    "Once you’ve switched to the LTS version of Node.js, you can install `IJavascript` by running:\n",
    "\n",
    "```bash\n",
    "    npm install -g ijavascript\n",
    "```\n",
    "\n",
    "The `npm` command is similar to `pip` in the Python world, which is used for installing packages. The `-g` parameter ensures that the package is installed globally, making `IJavascript` available across all projects using the active Node.js version.\n",
    "\n",
    "After the installation, register `IJavascript` as a Jupyter kernel with the following command:\n",
    "\n",
    "```bash\n",
    "ijsinstall\n",
    "```"
   ]
  },
  {
   "cell_type": "markdown",
   "metadata": {},
   "source": [
    "### Using JavaScript in Jupyter Notebook (in VS Code)\n",
    "\n",
    "After having completed all installation steps, you can run JavaScript code in a Jupyter notebook. Note that you need to restart VS Code.\n",
    "\n",
    "When you run the following cell, you will be asked to select a kernel in VS Code. Select `IJavascript`."
   ]
  },
  {
   "cell_type": "code",
   "execution_count": 1,
   "metadata": {},
   "outputs": [
    {
     "name": "stdout",
     "output_type": "stream",
     "text": [
      "Hello World!\n"
     ]
    }
   ],
   "source": [
    "console.log(\"Hello World!\")"
   ]
  },
  {
   "cell_type": "markdown",
   "metadata": {},
   "source": [
    "## First steps in JavaScript\n",
    "\n",
    "Let's explore JavaScript beyond just a simple \"Hello, World!\".\n",
    "\n",
    "### Declaring Variables\n",
    "\n",
    "Unlike Python, variables in JavaScript need to be explicitly declared before they are used. Here is an example:\n",
    "\n",
    "```javascript\n",
    "let hello;\n",
    "```\n",
    "\n",
    "In the context of Jupyter notebooks, this can lead to undesired behavior where cells containing variable declarations can only be executed once. The simplest way to avoid unwanted syntax errors is to separate the declaration of variables and the actual code into two separate cells.\n",
    "\n",
    "Since JavaScript typically declares and initializes variables at the same time (for example, `let hello = \"Hello\";`), this separation of declaration and initialization does not feel very \"JavaScripty\" (similar to how \"Pythonic\" refers to clear and idiomatic Python code). However, this trade-off works well for using JavaScript in Jupyter notebooks, which, by itself, is not a very \"JavaScripty\" way of coding. Jupyter’s cell-based, interactive workflow differs significantly from how JavaScript is usually written and executed.\n",
    "\n",
    "Here is an example to show the separation of declaration and initialization. Just be mindful not to execute the declaration cells multiple times."
   ]
  },
  {
   "cell_type": "code",
   "execution_count": 2,
   "metadata": {},
   "outputs": [],
   "source": [
    "let greeting1;\n",
    "let greeting2;"
   ]
  },
  {
   "cell_type": "code",
   "execution_count": 3,
   "metadata": {},
   "outputs": [
    {
     "name": "stdout",
     "output_type": "stream",
     "text": [
      "Hello World!\n"
     ]
    }
   ],
   "source": [
    "greeting1 = \"Hello\";\n",
    "greeting2 = 'World!';\n",
    "\n",
    "console.log(greeting1, greeting2);"
   ]
  },
  {
   "cell_type": "markdown",
   "metadata": {},
   "source": [
    "By the way, notice that just like in Python, in JavaScript a string represents a sequence of characters and can be enclosed in either single quotes (`'`) or double quotes (`\"`).\n",
    "\n",
    "As a best practice that applies to both [Python](https://peps.python.org/pep-0008/#string-quotes) and [JavaScript](https://standardjs.com/rules.html#rules):\n",
    "\n",
    "- Use single quotes (`'`) by default.\n",
    "- Switch to double quotes (`\"`) when the string contains a single quote (e.g., an apostrophe) to avoid using escape characters."
   ]
  },
  {
   "cell_type": "markdown",
   "metadata": {},
   "source": [
    "Another interesting aspect of variables in JavaScript is how their scope is defined. If you declare variables using `let`, the scope of the variable is limited to the block (enclosed by curly braces `{}`) where it is declared. Unlike Python, this could include blocks like `if` statements, `for` loops, or any code wrapped in curly braces.\n",
    "\n",
    "Here is a example:"
   ]
  },
  {
   "cell_type": "code",
   "execution_count": 4,
   "metadata": {},
   "outputs": [
    {
     "name": "stdout",
     "output_type": "stream",
     "text": [
      "The light fades into the void...\n"
     ]
    }
   ],
   "source": [
    "if ('the stars align' === 'the stars align') {\n",
    "    let light = 'shine bright';\n",
    "}\n",
    "\n",
    "// Checking if the light still shines beyond the block\n",
    "console.log(typeof light === 'undefined' ? 'The light fades into the void...' : 'The light endures.');"
   ]
  },
  {
   "cell_type": "markdown",
   "metadata": {},
   "source": [
    "Apart from the definition of the scope that we can observe in the example above, there are a few other noteworthy elements.\n",
    "\n",
    "First, the comparison is done with `===`, which checks for strict equality. This means it checks both the value and the type, making it more precise than `==`, which only checks for value equality and can sometimes lead to unexpected results due to type coercion. (In Python, there isn't a direct equivalent to `===`, but Python's `==` behaves more like JavaScript's strict `===` by default, without implicit type conversion.)\n",
    "\n",
    "Additionally, JavaScript supports a ternary operator (just like Python, though it is more commonly used in JavaScript), which is a shorthand way of writing an `if-else` statement:\n",
    "\n",
    "JavaScript:\n",
    "```javascript\n",
    "condition ? expressionIfTrue : expressionIfFalse;\n",
    "```\n",
    "\n",
    "Python:\n",
    "```python\n",
    "expressionIfTrue if condition else expressionIfFalse\n",
    "```\n",
    "\n",
    "For completeness, here’s the traditional way of writing out the condition from the example above:\n",
    "\n",
    "```javascript\n",
    "if (typeof light === 'undefined') {\n",
    "    console.log('The light fades into the void...');\n",
    "} else {\n",
    "    console.log('The light endures.');\n",
    "}\n",
    "```"
   ]
  },
  {
   "cell_type": "markdown",
   "metadata": {},
   "source": [
    "## Implementing a Pyramid Generator\n",
    "\n",
    "To wrap up this blog post, here's some slightly more complex code. In parallel, I've been following a tutorial on building a pyramid generator in JavaScript. Below is my Jupyter notebook version, followed by some observations."
   ]
  },
  {
   "cell_type": "code",
   "execution_count": 1,
   "metadata": {},
   "outputs": [],
   "source": [
    "const character = \"#\";\n",
    "const rows = [];\n",
    "let pyramidHeight;\n",
    "let inverted;\n",
    "let result;\n"
   ]
  },
  {
   "cell_type": "code",
   "execution_count": 2,
   "metadata": {},
   "outputs": [
    {
     "data": {
      "text/plain": [
       "8"
      ]
     },
     "execution_count": 2,
     "metadata": {},
     "output_type": "execute_result"
    }
   ],
   "source": [
    "rows.length = 0;  // Reset the array to an empty list\n",
    "pyramidHeight = 8;\n",
    "inverted = false;\n",
    "result = \"\";\n",
    "\n",
    "// Generates the spaces needed to center the pyramid row\n",
    "function generateWhitespace(rowNumber, pyramidHeight) {\n",
    "    return \" \".repeat(pyramidHeight - rowNumber)\n",
    "}\n",
    "\n",
    "// Generates the pyramid characters (e.g., \"###\" or \"#####\")\n",
    "function generatePyramid(rowNumber){\n",
    "    return character.repeat(2 * rowNumber - 1)\n",
    "} \n",
    "\n",
    "// Combines whitespace and pyramid characters to create a centered row\n",
    "function generatePyramidRow(rowNumber, pyramidHeight) {\n",
    "    const whitespace = generateWhitespace(rowNumber, pyramidHeight);\n",
    "    const pyramid = generatePyramid(rowNumber);\n",
    "    return `${whitespace}${pyramid}${whitespace}`;\n",
    "}\n",
    "\n",
    "for (let rowNumber = 1; rowNumber <= pyramidHeight; rowNumber++) {\n",
    "    if (inverted) {\n",
    "        rows.unshift(generatePyramidRow(rowNumber, pyramidHeight));\n",
    "    } else {\n",
    "        rows.push(generatePyramidRow(rowNumber, pyramidHeight));\n",
    "    }\n",
    "}"
   ]
  },
  {
   "cell_type": "markdown",
   "metadata": {},
   "source": [
    "Notice the output of the cell, which is equal to the height of the pyramid. This is due to Jupyter’s behavior of displaying the result of the last evaluated statement. It can be suppressed by adding a dummy line at the end, like `void 0;` (which produces `undefined`). "
   ]
  },
  {
   "cell_type": "code",
   "execution_count": 21,
   "metadata": {},
   "outputs": [
    {
     "name": "stdout",
     "output_type": "stream",
     "text": [
      "[\n",
      "  '         #         ',\n",
      "  '        ###        ',\n",
      "  '       #####       ',\n",
      "  '      #######      ',\n",
      "  '     #########     ',\n",
      "  '    ###########    ',\n",
      "  '   #############   ',\n",
      "  '  ###############  ',\n",
      "  ' ################# ',\n",
      "  '###################'\n",
      "]\n"
     ]
    }
   ],
   "source": [
    "console.log(rows);"
   ]
  },
  {
   "cell_type": "code",
   "execution_count": 16,
   "metadata": {},
   "outputs": [
    {
     "name": "stdout",
     "output_type": "stream",
     "text": [
      "       #       \n",
      "      ###      \n",
      "     #####     \n",
      "    #######    \n",
      "   #########   \n",
      "  ###########  \n",
      " ############# \n",
      "###############\n"
     ]
    }
   ],
   "source": [
    "result = rows.join(\"\\n\");\n",
    "console.log(result);"
   ]
  },
  {
   "cell_type": "markdown",
   "metadata": {},
   "source": [
    "The code still looks somewhat unfamiliar compared to what I'm used to in Python. Here are some noteworthy points:\n",
    "\n",
    "- I separated the declaration of the variables and their initialization into a \"declaration cell\" and a \"code cell\" to be able to run the code cell multiple times in my notebook without re-declaring variables.\n",
    "- JavaScript differentiates strictly between variables and constants. In Python, the concept of a constant is not enforced, it's just a naming convention to use uppercase (`SPEED_OF_LIGHT = 299792458`). In JavaScript, however, a constant truly is a constant, and the language enforces that it cannot be changed (`const speedOfLight = 299792458;`).\n",
    "- The fact that the list of rows is also defined as a constant still looks odd to me. However, using `const` for arrays and objects is considered a good practice in JavaScript because it prevents the variable from being accidentally reassigned. `const` ensures the variable refers to the same instance, but you can still modify the instance's contents.\n",
    "- The comments describing the functions are not directly comparable to docstrings in Python. To create similar in-line documentation, you would use JSDoc in JavaScript.\n",
    "- `${whitespace}${pyramid}${whitespace}` is a template literal, which is the JavaScript equivalent of a Python f-string. Template literals are enclosed in backticks (\\`) and allow you to inject dynamic content using `${name}`."
   ]
  },
  {
   "cell_type": "markdown",
   "metadata": {},
   "source": [
    "## Conclusion\n",
    "\n",
    "My first few days with JavaScript have been an interesting ride. As stated above, my approach is likely quite unusual, but I feel it's effective for my personal learning journey. The familiar environment of Jupyter notebooks allows me to see results quickly without having to focus too much on setup or infrastructure. I'm certain, however, that future JavaScript projects will look different as I explore more traditional ways of working with the language."
   ]
  }
 ],
 "metadata": {
  "kernelspec": {
   "display_name": "JavaScript (Node.js)",
   "language": "javascript",
   "name": "javascript"
  },
  "language_info": {
   "file_extension": ".js",
   "mimetype": "application/javascript",
   "name": "javascript",
   "version": "20.18.0"
  }
 },
 "nbformat": 4,
 "nbformat_minor": 2
}
