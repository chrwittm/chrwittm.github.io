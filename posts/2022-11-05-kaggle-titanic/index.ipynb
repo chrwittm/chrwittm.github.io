{
 "cells": [
  {
   "cell_type": "raw",
   "metadata": {},
   "source": [
    "---\n",
    "title: \"My First Kaggle Competition: Titanic\"\n",
    "author: \"Christian Wittmann\"\n",
    "date: \"2022-11-05\"\n",
    "categories: [kaggle, titanic, fast.ai, ml, tabular]\n",
    "image: \"Kaggle_logo.png\"\n",
    "---"
   ]
  },
  {
   "cell_type": "markdown",
   "metadata": {},
   "source": [
    "For more practical experience with gradient descent, I decided to participate in the [Titanic Competition](https://www.kaggle.com/c/titanic). Here is how I did it and what I learned.\n",
    "\n",
    "I took the following approach:\n",
    "\n",
    "* Setting up my local machine for the Kaggle competition\n",
    "* Trying to write as little code as possible, I implemented [notebook](https://github.com/chrwittm/FastAI2022/blob/main/lesson03/titanic/titanic1/titanic1.ipynb) which leveraged a fast.ai tabular learner\n",
    "* Creating another [notebook](https://github.com/chrwittm/FastAI2022/blob/main/lesson03/titanic/titanic3/titanic3.ipynb) re-implementing Jeremy's Excel-based model\n",
    "\n",
    "> Note: This blog post itself is a notebook, and it can be found [here on GitHub](https://github.com/chrwittm/FastAI2022/blob/main/lesson03/titanic/titanic-blog-post/blog-post-titanic.ipynb)."
   ]
  },
  {
   "cell_type": "markdown",
   "metadata": {},
   "source": [
    "## Installing Kaggle\n",
    "\n",
    "Getting ready for the Kaggle competition requires registering for the competition (a few clicks on the kaggle website), and installing kaggle on your local machine. The following is based on the [Live-Coding Session 7](https://youtu.be/cagqUrHMDJ0) and the related [official topic in the forums](https://forums.fast.ai/t/live-coding-7/96811).\n",
    "\n",
    "The first step is to install kaggle:\n",
    "\n",
    "```bash\n",
    "pip install --user kaggle\n",
    "```\n",
    "\n",
    "As a result, the following warning is displayed: `The script kaggle is installed in '/home/<your user>/.local/bin' which is not on PATH.` This means that the you need to add the path to the `PATH`-variable. This is done by adding the following line to the `.bashrc`-file and restarting the terminal:\n",
    "\n",
    "```bash\n",
    "PATH=~/.local/bin:$PATH\n",
    "```\n",
    "\n",
    "> Note: To display the current `PATH`-variable use: `echo $PATH`\n",
    "\n",
    "As a result, typing the `kaggle`-command on the command line works, but the next error shows up (as expected):\n",
    "`OSError: Could not find kaggle.json. Make sure it's located in /home/chrwittm/.kaggle. Or use the environment method.`\n",
    "\n",
    "This means that you cannot authorize against the kaggle platform. To solve this, download your personal `kaggle.json`\n",
    "On the kaggle website, navigate to: \"Account\" and click on \"Create New API Token\". As a result, the `kaggle.json` is downloaded.\n",
    "\n",
    "Copy the `kaggle.json`-file into the `.kaggle`-directory in your home directory.\n",
    "\n",
    "Typing the `kaggle`-command on the command line gives you the final clue as to what is missing:\n",
    "`Your Kaggle API key is readable by other users on this system! To fix this, you can run 'chmod 600 /home/chrwittm/.kaggle/kaggle.json'`\n",
    "\n",
    "Therefore, type: \n",
    "\n",
    "```bash\n",
    "chmod 600 /home/<your user>/.kaggle/kaggle.json\n",
    "```\n",
    "\n",
    "Typing the `kaggle`-command on the command line again confirms: We are in business :)"
   ]
  },
  {
   "cell_type": "markdown",
   "metadata": {},
   "source": [
    "## Downloading the dataset\n",
    "\n",
    "To download the dataset, run the following command (which you can also find on the kaggle website): \n",
    "\n",
    "```bash\n",
    "kaggle competitions download -c titanic\n",
    "```\n",
    "\n",
    "As a result, the file `titanic.zip` is downloaded.\n",
    "\n",
    "To unzip type:\n",
    "\n",
    "```bash\n",
    "unzip titanic.zip\n",
    "```\n",
    "\n",
    "Doing this for the first time, this resulted in an error: `/bin/bash: unzip: command not found`\n",
    "\n",
    "To install zip and unzip, type:\n",
    "\n",
    "```bash\n",
    "sudo apt-get install zip\n",
    "sudo apt-get install unzip\n",
    "```\n",
    "\n",
    "As a result, unzipping works, and we have a dataset to work with :)."
   ]
  },
  {
   "cell_type": "code",
   "execution_count": 1,
   "metadata": {},
   "outputs": [
    {
     "data": {
      "text/html": [
       "<div>\n",
       "<style scoped>\n",
       "    .dataframe tbody tr th:only-of-type {\n",
       "        vertical-align: middle;\n",
       "    }\n",
       "\n",
       "    .dataframe tbody tr th {\n",
       "        vertical-align: top;\n",
       "    }\n",
       "\n",
       "    .dataframe thead th {\n",
       "        text-align: right;\n",
       "    }\n",
       "</style>\n",
       "<table border=\"1\" class=\"dataframe\">\n",
       "  <thead>\n",
       "    <tr style=\"text-align: right;\">\n",
       "      <th></th>\n",
       "      <th>PassengerId</th>\n",
       "      <th>Survived</th>\n",
       "      <th>Pclass</th>\n",
       "      <th>Name</th>\n",
       "      <th>Sex</th>\n",
       "      <th>Age</th>\n",
       "      <th>SibSp</th>\n",
       "      <th>Parch</th>\n",
       "      <th>Ticket</th>\n",
       "      <th>Fare</th>\n",
       "      <th>Cabin</th>\n",
       "      <th>Embarked</th>\n",
       "    </tr>\n",
       "  </thead>\n",
       "  <tbody>\n",
       "    <tr>\n",
       "      <th>0</th>\n",
       "      <td>1</td>\n",
       "      <td>0</td>\n",
       "      <td>3</td>\n",
       "      <td>Braund, Mr. Owen Harris</td>\n",
       "      <td>male</td>\n",
       "      <td>22.0</td>\n",
       "      <td>1</td>\n",
       "      <td>0</td>\n",
       "      <td>A/5 21171</td>\n",
       "      <td>7.2500</td>\n",
       "      <td>NaN</td>\n",
       "      <td>S</td>\n",
       "    </tr>\n",
       "    <tr>\n",
       "      <th>1</th>\n",
       "      <td>2</td>\n",
       "      <td>1</td>\n",
       "      <td>1</td>\n",
       "      <td>Cumings, Mrs. John Bradley (Florence Briggs Th...</td>\n",
       "      <td>female</td>\n",
       "      <td>38.0</td>\n",
       "      <td>1</td>\n",
       "      <td>0</td>\n",
       "      <td>PC 17599</td>\n",
       "      <td>71.2833</td>\n",
       "      <td>C85</td>\n",
       "      <td>C</td>\n",
       "    </tr>\n",
       "    <tr>\n",
       "      <th>2</th>\n",
       "      <td>3</td>\n",
       "      <td>1</td>\n",
       "      <td>3</td>\n",
       "      <td>Heikkinen, Miss. Laina</td>\n",
       "      <td>female</td>\n",
       "      <td>26.0</td>\n",
       "      <td>0</td>\n",
       "      <td>0</td>\n",
       "      <td>STON/O2. 3101282</td>\n",
       "      <td>7.9250</td>\n",
       "      <td>NaN</td>\n",
       "      <td>S</td>\n",
       "    </tr>\n",
       "    <tr>\n",
       "      <th>3</th>\n",
       "      <td>4</td>\n",
       "      <td>1</td>\n",
       "      <td>1</td>\n",
       "      <td>Futrelle, Mrs. Jacques Heath (Lily May Peel)</td>\n",
       "      <td>female</td>\n",
       "      <td>35.0</td>\n",
       "      <td>1</td>\n",
       "      <td>0</td>\n",
       "      <td>113803</td>\n",
       "      <td>53.1000</td>\n",
       "      <td>C123</td>\n",
       "      <td>S</td>\n",
       "    </tr>\n",
       "    <tr>\n",
       "      <th>4</th>\n",
       "      <td>5</td>\n",
       "      <td>0</td>\n",
       "      <td>3</td>\n",
       "      <td>Allen, Mr. William Henry</td>\n",
       "      <td>male</td>\n",
       "      <td>35.0</td>\n",
       "      <td>0</td>\n",
       "      <td>0</td>\n",
       "      <td>373450</td>\n",
       "      <td>8.0500</td>\n",
       "      <td>NaN</td>\n",
       "      <td>S</td>\n",
       "    </tr>\n",
       "  </tbody>\n",
       "</table>\n",
       "</div>"
      ],
      "text/plain": [
       "   PassengerId  Survived  Pclass  \\\n",
       "0            1         0       3   \n",
       "1            2         1       1   \n",
       "2            3         1       3   \n",
       "3            4         1       1   \n",
       "4            5         0       3   \n",
       "\n",
       "                                                Name     Sex   Age  SibSp  \\\n",
       "0                            Braund, Mr. Owen Harris    male  22.0      1   \n",
       "1  Cumings, Mrs. John Bradley (Florence Briggs Th...  female  38.0      1   \n",
       "2                             Heikkinen, Miss. Laina  female  26.0      0   \n",
       "3       Futrelle, Mrs. Jacques Heath (Lily May Peel)  female  35.0      1   \n",
       "4                           Allen, Mr. William Henry    male  35.0      0   \n",
       "\n",
       "   Parch            Ticket     Fare Cabin Embarked  \n",
       "0      0         A/5 21171   7.2500   NaN        S  \n",
       "1      0          PC 17599  71.2833   C85        C  \n",
       "2      0  STON/O2. 3101282   7.9250   NaN        S  \n",
       "3      0            113803  53.1000  C123        S  \n",
       "4      0            373450   8.0500   NaN        S  "
      ]
     },
     "execution_count": 1,
     "metadata": {},
     "output_type": "execute_result"
    }
   ],
   "source": [
    "import pandas as pd\n",
    "\n",
    "train = pd.read_csv(\"train.csv\")\n",
    "train.head()"
   ]
  },
  {
   "cell_type": "markdown",
   "metadata": {},
   "source": [
    "## Implementing a Fast.ai Tabular Learner\n",
    "\n",
    "The goal was not to create a perfect submission, but to simply train a model as fast as possible to\n",
    "\n",
    "* get a baseline\n",
    "* to get to know how a kaggle competition works (remember, this is my first one)\n",
    "\n",
    "Therefore, I created a dataloaders as shown in [lesson 1](https://youtu.be/8SF_h3xF3cE?t=3513) or [in the docs](https://docs.fast.ai/examples/app_examples.html#tabular) by sorting the variables into categorical or continuos one, excluding irrelevant ones).\n",
    "\n",
    "> Note 1: In this blog post, I am presenting the steps in a fast-forward way, here is the original [notebook](https://github.com/chrwittm/FastAI2022/blob/main/lesson03/titanic/titanic1/titanic1.ipynb).\n",
    "\n",
    "> Note 2: When writing this up, I was not able to 100% re-produce the same results, but basically this is how the story went."
   ]
  },
  {
   "cell_type": "code",
   "execution_count": 2,
   "metadata": {},
   "outputs": [],
   "source": [
    "from fastai.tabular.all import *\n",
    "\n",
    "path = \".\"\n",
    "\n",
    "dls = TabularDataLoaders.from_csv('train.csv', path=path, y_names=\"Survived\",\n",
    "    cat_names = ['Pclass', 'Sex', 'SibSp', 'Parch', 'Embarked'],\n",
    "    cont_names = ['Age', 'Fare'],\n",
    "    procs = [Categorify, FillMissing, Normalize])"
   ]
  },
  {
   "cell_type": "markdown",
   "metadata": {},
   "source": [
    "Now we can train a model:"
   ]
  },
  {
   "cell_type": "code",
   "execution_count": 3,
   "metadata": {},
   "outputs": [
    {
     "data": {
      "text/html": [
       "\n",
       "<style>\n",
       "    /* Turns off some styling */\n",
       "    progress {\n",
       "        /* gets rid of default border in Firefox and Opera. */\n",
       "        border: none;\n",
       "        /* Needs to be in here for Safari polyfill so background images work as expected. */\n",
       "        background-size: auto;\n",
       "    }\n",
       "    progress:not([value]), progress:not([value])::-webkit-progress-bar {\n",
       "        background: repeating-linear-gradient(45deg, #7e7e7e, #7e7e7e 10px, #5c5c5c 10px, #5c5c5c 20px);\n",
       "    }\n",
       "    .progress-bar-interrupted, .progress-bar-interrupted::-webkit-progress-bar {\n",
       "        background: #F44336;\n",
       "    }\n",
       "</style>\n"
      ],
      "text/plain": [
       "<IPython.core.display.HTML object>"
      ]
     },
     "metadata": {},
     "output_type": "display_data"
    },
    {
     "data": {
      "text/html": [
       "<table border=\"1\" class=\"dataframe\">\n",
       "  <thead>\n",
       "    <tr style=\"text-align: left;\">\n",
       "      <th>epoch</th>\n",
       "      <th>train_loss</th>\n",
       "      <th>valid_loss</th>\n",
       "      <th>accuracy</th>\n",
       "      <th>time</th>\n",
       "    </tr>\n",
       "  </thead>\n",
       "  <tbody>\n",
       "    <tr>\n",
       "      <td>0</td>\n",
       "      <td>0.548652</td>\n",
       "      <td>0.315984</td>\n",
       "      <td>0.640449</td>\n",
       "      <td>00:00</td>\n",
       "    </tr>\n",
       "    <tr>\n",
       "      <td>1</td>\n",
       "      <td>0.454461</td>\n",
       "      <td>0.325496</td>\n",
       "      <td>0.640449</td>\n",
       "      <td>00:00</td>\n",
       "    </tr>\n",
       "    <tr>\n",
       "      <td>2</td>\n",
       "      <td>0.373511</td>\n",
       "      <td>0.289948</td>\n",
       "      <td>0.640449</td>\n",
       "      <td>00:00</td>\n",
       "    </tr>\n",
       "    <tr>\n",
       "      <td>3</td>\n",
       "      <td>0.319270</td>\n",
       "      <td>0.251090</td>\n",
       "      <td>0.640449</td>\n",
       "      <td>00:00</td>\n",
       "    </tr>\n",
       "    <tr>\n",
       "      <td>4</td>\n",
       "      <td>0.280473</td>\n",
       "      <td>0.196879</td>\n",
       "      <td>0.640449</td>\n",
       "      <td>00:00</td>\n",
       "    </tr>\n",
       "    <tr>\n",
       "      <td>5</td>\n",
       "      <td>0.249269</td>\n",
       "      <td>0.173640</td>\n",
       "      <td>0.640449</td>\n",
       "      <td>00:00</td>\n",
       "    </tr>\n",
       "    <tr>\n",
       "      <td>6</td>\n",
       "      <td>0.225535</td>\n",
       "      <td>0.152192</td>\n",
       "      <td>0.640449</td>\n",
       "      <td>00:00</td>\n",
       "    </tr>\n",
       "    <tr>\n",
       "      <td>7</td>\n",
       "      <td>0.207350</td>\n",
       "      <td>0.141283</td>\n",
       "      <td>0.640449</td>\n",
       "      <td>00:00</td>\n",
       "    </tr>\n",
       "    <tr>\n",
       "      <td>8</td>\n",
       "      <td>0.192223</td>\n",
       "      <td>0.137462</td>\n",
       "      <td>0.640449</td>\n",
       "      <td>00:00</td>\n",
       "    </tr>\n",
       "    <tr>\n",
       "      <td>9</td>\n",
       "      <td>0.180697</td>\n",
       "      <td>0.137344</td>\n",
       "      <td>0.640449</td>\n",
       "      <td>00:00</td>\n",
       "    </tr>\n",
       "  </tbody>\n",
       "</table>"
      ],
      "text/plain": [
       "<IPython.core.display.HTML object>"
      ]
     },
     "metadata": {},
     "output_type": "display_data"
    }
   ],
   "source": [
    "learn = tabular_learner(dls, metrics=accuracy)\n",
    "learn.fit_one_cycle(10) #change this variable for more/less training"
   ]
  },
  {
   "cell_type": "markdown",
   "metadata": {},
   "source": [
    "With this learner, we can make the predictions on the test-dataset."
   ]
  },
  {
   "cell_type": "code",
   "execution_count": 4,
   "metadata": {},
   "outputs": [
    {
     "data": {
      "text/html": [
       "\n",
       "<style>\n",
       "    /* Turns off some styling */\n",
       "    progress {\n",
       "        /* gets rid of default border in Firefox and Opera. */\n",
       "        border: none;\n",
       "        /* Needs to be in here for Safari polyfill so background images work as expected. */\n",
       "        background-size: auto;\n",
       "    }\n",
       "    progress:not([value]), progress:not([value])::-webkit-progress-bar {\n",
       "        background: repeating-linear-gradient(45deg, #7e7e7e, #7e7e7e 10px, #5c5c5c 10px, #5c5c5c 20px);\n",
       "    }\n",
       "    .progress-bar-interrupted, .progress-bar-interrupted::-webkit-progress-bar {\n",
       "        background: #F44336;\n",
       "    }\n",
       "</style>\n"
      ],
      "text/plain": [
       "<IPython.core.display.HTML object>"
      ]
     },
     "metadata": {},
     "output_type": "display_data"
    },
    {
     "data": {
      "text/html": [],
      "text/plain": [
       "<IPython.core.display.HTML object>"
      ]
     },
     "metadata": {},
     "output_type": "display_data"
    },
    {
     "data": {
      "text/html": [
       "<div>\n",
       "<style scoped>\n",
       "    .dataframe tbody tr th:only-of-type {\n",
       "        vertical-align: middle;\n",
       "    }\n",
       "\n",
       "    .dataframe tbody tr th {\n",
       "        vertical-align: top;\n",
       "    }\n",
       "\n",
       "    .dataframe thead th {\n",
       "        text-align: right;\n",
       "    }\n",
       "</style>\n",
       "<table border=\"1\" class=\"dataframe\">\n",
       "  <thead>\n",
       "    <tr style=\"text-align: right;\">\n",
       "      <th></th>\n",
       "      <th>PassengerId</th>\n",
       "      <th>Pclass</th>\n",
       "      <th>Name</th>\n",
       "      <th>Sex</th>\n",
       "      <th>Age</th>\n",
       "      <th>SibSp</th>\n",
       "      <th>Parch</th>\n",
       "      <th>Ticket</th>\n",
       "      <th>Fare</th>\n",
       "      <th>Cabin</th>\n",
       "      <th>Embarked</th>\n",
       "      <th>Survived_pred</th>\n",
       "    </tr>\n",
       "  </thead>\n",
       "  <tbody>\n",
       "    <tr>\n",
       "      <th>0</th>\n",
       "      <td>892</td>\n",
       "      <td>3</td>\n",
       "      <td>Kelly, Mr. James</td>\n",
       "      <td>male</td>\n",
       "      <td>34.5</td>\n",
       "      <td>0</td>\n",
       "      <td>0</td>\n",
       "      <td>330911</td>\n",
       "      <td>7.8292</td>\n",
       "      <td>NaN</td>\n",
       "      <td>Q</td>\n",
       "      <td>0.064765</td>\n",
       "    </tr>\n",
       "    <tr>\n",
       "      <th>1</th>\n",
       "      <td>893</td>\n",
       "      <td>3</td>\n",
       "      <td>Wilkes, Mrs. James (Ellen Needs)</td>\n",
       "      <td>female</td>\n",
       "      <td>47.0</td>\n",
       "      <td>1</td>\n",
       "      <td>0</td>\n",
       "      <td>363272</td>\n",
       "      <td>7.0000</td>\n",
       "      <td>NaN</td>\n",
       "      <td>S</td>\n",
       "      <td>0.454887</td>\n",
       "    </tr>\n",
       "    <tr>\n",
       "      <th>2</th>\n",
       "      <td>894</td>\n",
       "      <td>2</td>\n",
       "      <td>Myles, Mr. Thomas Francis</td>\n",
       "      <td>male</td>\n",
       "      <td>62.0</td>\n",
       "      <td>0</td>\n",
       "      <td>0</td>\n",
       "      <td>240276</td>\n",
       "      <td>9.6875</td>\n",
       "      <td>NaN</td>\n",
       "      <td>Q</td>\n",
       "      <td>-0.025921</td>\n",
       "    </tr>\n",
       "    <tr>\n",
       "      <th>3</th>\n",
       "      <td>895</td>\n",
       "      <td>3</td>\n",
       "      <td>Wirz, Mr. Albert</td>\n",
       "      <td>male</td>\n",
       "      <td>27.0</td>\n",
       "      <td>0</td>\n",
       "      <td>0</td>\n",
       "      <td>315154</td>\n",
       "      <td>8.6625</td>\n",
       "      <td>NaN</td>\n",
       "      <td>S</td>\n",
       "      <td>-0.015690</td>\n",
       "    </tr>\n",
       "    <tr>\n",
       "      <th>4</th>\n",
       "      <td>896</td>\n",
       "      <td>3</td>\n",
       "      <td>Hirvonen, Mrs. Alexander (Helga E Lindqvist)</td>\n",
       "      <td>female</td>\n",
       "      <td>22.0</td>\n",
       "      <td>1</td>\n",
       "      <td>1</td>\n",
       "      <td>3101298</td>\n",
       "      <td>12.2875</td>\n",
       "      <td>NaN</td>\n",
       "      <td>S</td>\n",
       "      <td>0.508172</td>\n",
       "    </tr>\n",
       "  </tbody>\n",
       "</table>\n",
       "</div>"
      ],
      "text/plain": [
       "   PassengerId  Pclass                                          Name     Sex  \\\n",
       "0          892       3                              Kelly, Mr. James    male   \n",
       "1          893       3              Wilkes, Mrs. James (Ellen Needs)  female   \n",
       "2          894       2                     Myles, Mr. Thomas Francis    male   \n",
       "3          895       3                              Wirz, Mr. Albert    male   \n",
       "4          896       3  Hirvonen, Mrs. Alexander (Helga E Lindqvist)  female   \n",
       "\n",
       "    Age  SibSp  Parch   Ticket     Fare Cabin Embarked  Survived_pred  \n",
       "0  34.5      0      0   330911   7.8292   NaN        Q       0.064765  \n",
       "1  47.0      1      0   363272   7.0000   NaN        S       0.454887  \n",
       "2  62.0      0      0   240276   9.6875   NaN        Q      -0.025921  \n",
       "3  27.0      0      0   315154   8.6625   NaN        S      -0.015690  \n",
       "4  22.0      1      1  3101298  12.2875   NaN        S       0.508172  "
      ]
     },
     "execution_count": 4,
     "metadata": {},
     "output_type": "execute_result"
    }
   ],
   "source": [
    "test = pd.read_csv(\"test.csv\")\n",
    "\n",
    "# replacing null values with 0\n",
    "test['Fare'] = test['Fare'].fillna(0)\n",
    "\n",
    "# create Predictions as suggested here:\n",
    "# https://forums.fast.ai/t/tabular-learner-prediction-using-data-frame/90534/2\n",
    "test_dl = learn.dls.test_dl(test)\n",
    "preds, _ = learn.get_preds(dl=test_dl)\n",
    "\n",
    "test['Survived_pred'] = preds.squeeze()\n",
    "test.head()"
   ]
  },
  {
   "cell_type": "markdown",
   "metadata": {},
   "source": [
    "Interpreting the values in column `Survived_pred` is important, because we need to turn these values into `0` and `1` for the submission. The submission file should only have the columns `PassengerId` and `Survived`. For the first submission, I did not worry about it too much and simply picked a value `0.5`. (Let's come back to that a little later)"
   ]
  },
  {
   "cell_type": "code",
   "execution_count": 5,
   "metadata": {},
   "outputs": [],
   "source": [
    "threshold = 0.5 #change this variable for more/less training\n",
    "test['Survived'] = [ 1 if element > threshold else 0 for element in preds.squeeze()]\n",
    "\n",
    "submission1 = test[['PassengerId', 'Survived']]\n",
    "submission1.to_csv('submission1.csv', index=False)"
   ]
  },
  {
   "cell_type": "markdown",
   "metadata": {},
   "source": [
    "I uploaded the results, and they were better then random ;) - **Score 0.73923**\n",
    "\n",
    "![](first_submission.png)\n",
    "\n",
    "The score is not great, but the whole point was to get a baseline as quickly as possible, and to \"play the whole kaggle game\". Actually, the fact that I produced this result in about 1-2 hours felt pretty good :).\n",
    "\n",
    "> Note: Running this notebook, I got a score of 0.75119, I am not sure, what caused the difference... but better is always good ;)"
   ]
  },
  {
   "cell_type": "markdown",
   "metadata": {},
   "source": [
    "So how can we improve the score? More training, interpreting the results differently? As it turns out: Both.\n",
    "\n",
    "Let's look at the distribution of `Survived_pred`:"
   ]
  },
  {
   "cell_type": "code",
   "execution_count": 6,
   "metadata": {},
   "outputs": [
    {
     "data": {
      "image/png": "[encoded data removed]",
      "text/plain": [
       "<Figure size 640x480 with 1 Axes>"
      ]
     },
     "metadata": {},
     "output_type": "display_data"
    }
   ],
   "source": [
    "test.Survived_pred.hist();"
   ]
  },
  {
   "cell_type": "markdown",
   "metadata": {},
   "source": [
    "As it turned out, setting my threshold to `0.6` created a better result: **Score: 0.74162**. (this I could not reproduce with this notebook while writing up the blog post)"
   ]
  },
  {
   "cell_type": "markdown",
   "metadata": {},
   "source": [
    "Also more training, produced better results, running for 50 cycles, resulted in a lower loss and a better result. Training with 50 cycles and threshold `0.7`, this was the result: **Score: 0.76794** (with this notebook 0.77033)"
   ]
  },
  {
   "cell_type": "markdown",
   "metadata": {},
   "source": [
    "So there is some randomness when training, and it is important to properly interpret the results. Getting about 77% right with this simple approach is not to bad."
   ]
  },
  {
   "cell_type": "markdown",
   "metadata": {},
   "source": [
    "## Re-Implemenmting the Excel Model\n",
    "\n",
    "After the quick win with Fast.AI, I decided to re-implement what Jeremy did in the Excel in [video lecture 3](https://www.youtube.com/watch?v=hBBOjCiFcuo&list=PLfYUBJiXbdtSvpQjSnJJ_PmDQB_VyT5iU&index=3&t=3862s) to predict the survivors. Let's see how it performs against the Fast.AI tabular learner.\n",
    "\n",
    "Since that involved quite a bit of code, let me simply link to [notebook](https://github.com/chrwittm/FastAI2022/blob/main/lesson03/titanic/titanic3/titanic3.ipynb) and discuss the learnings / results.\n",
    "\n",
    "As it turned out:\n",
    "\n",
    "* I had to do a bit of data cleansing.\n",
    "* The feature engineering took some time which taught me some general python lessons.\n",
    "* Implementing the optimizer was a nice exercise, revisiting [gradient descent](https://chrwittm.github.io/posts/2022-10-13-visualizing-gradient-descent-in-3d/) and [matrix multiplication](https://chrwittm.github.io/posts/2022-10-28-matrix-multiplication/), and doing some hands-on work with tensors.\n",
    "\n",
    "The first model with just one layer scored **0.75837**, even better than the my Fast.AI baseline, but not quite as good as the optimized version.\n",
    "\n",
    "The next iteration with 2 and 3 layers scored better:\n",
    "\n",
    "* **Score: 0.77033** (2-layers)\n",
    "* **Score: 0.77272** (3-layers)\n",
    "\n",
    "![](score077272.png)\n",
    "\n",
    "This was quite surprising: The self-written algorithm is better than the Fast.AI one, any ideas why that would be?\n",
    "\n",
    "Nonetheless, it seems to hit a ceiling at 77%, and it would make sense to dive deeper into tabular data, but that is for another time. My goal was not to optimize the competition result, but to participate in my first kaggle competition, and to re-visit the topic of gradient descent and matrix multiplication. I will most likely return to this dataset/challenge in the future.\n"
   ]
  },
  {
   "cell_type": "markdown",
   "metadata": {},
   "source": []
  }
 ],
 "metadata": {
  "kernelspec": {
   "display_name": "Python 3 (ipykernel)",
   "language": "python",
   "name": "python3"
  },
  "language_info": {
   "codemirror_mode": {
    "name": "ipython",
    "version": 3
   },
   "file_extension": ".py",
   "mimetype": "text/x-python",
   "name": "python",
   "nbconvert_exporter": "python",
   "pygments_lexer": "ipython3",
   "version": "3.10.4"
  },
  "vscode": {
   "interpreter": {
    "hash": "d9da906b64701e68312bc07fbc15a3a13814f930718c2c6b0e41a29d035806a3"
   }
  }
 },
 "nbformat": 4,
 "nbformat_minor": 4
}
