{
 "cells": [
  {
   "cell_type": "raw",
   "metadata": {},
   "source": [
    "---\n",
    "title: \"Matrix Multiplication\"\n",
    "author: \"Christian Wittmann\"\n",
    "date: \"2022-10-28\"\n",
    "categories: [math, python, numpy, pytorch]\n",
    "image: \"khan-matrix-dimensions.png\"\n",
    "---"
   ]
  },
  {
   "cell_type": "markdown",
   "metadata": {},
   "source": [
    "Since matrix multiplication is a big thing for deep learning and visualizations like <http://matrixmultiplication.xyz/> were a bit to fast for me to properly re-understand what I learned in highschool, I decided dive in more systematically without falling into the trap of learning lots of math before continuing with deep learning. This will be short and sweet:\n",
    "\n",
    "* Taking a few lessons on [Khan Academy](https://www.khanacademy.org/math/precalculus/x9e81a4f98389efdf:matrices#x9e81a4f98389efdf:multiplying-matrices-by-matrices).\n",
    "* Implementing matrix multiplication in python from scratch (with numpy and pytorch)\n",
    "\n",
    "This has been done a million times before already, but nonetheless, let me explain what I learned along the way."
   ]
  },
  {
   "cell_type": "markdown",
   "metadata": {},
   "source": [
    "## Takeaways from Khan Academy\n",
    "\n",
    "One thing I was struggling with was to intuit the dimensions of the target matrix.\n",
    "\n",
    "Let's assume two matrixes: $A = (m \\times n)$ and $B = (n \\times k)$\n",
    "\n",
    "This picture from Khan Academy sums it all up for me:\n",
    "\n",
    "![Khan Academy Matrix Dimensions](khan-matrix-dimensions.png)\n",
    "*<br>Illustration [by Khan Academy](https://www.khanacademy.org/) [CC BY-NC-SA 3.0 US](https://creativecommons.org/licenses/by-nc-sa/3.0/us/) <br> [Note](https://support.khanacademy.org/hc/en-us/articles/202262954-Can-I-use-Khan-Academy-s-videos-name-materials-links-in-my-project-): All Khan Academy content is available for free at ([www.khanacademy.org](https://www.khanacademy.org/))\"*\n",
    "\n",
    "Therefore, a matrix multiplication is defined if the number of columns of matrix $A$ matches the number of rows of matrix $B$.\n",
    "\n",
    "The resulting matrix $C = A \\times B$ has the same number of rows as matrix $A$ and the same number of columns as matrix $B$. "
   ]
  },
  {
   "cell_type": "markdown",
   "metadata": {},
   "source": [
    "## Implementing Matrix Multiplication in Python from scratch\n",
    "\n",
    "Once that was done, I decided to implement matrix multiplication in python. I found [this tutorial](https://geekflare.com/multiply-matrices-in-python/) which provided me with the task and some guidance along the way, especially on a few things in python.\n",
    "\n",
    "As a starting point, here are 2 matrixes that we want to multiply (example from tutorial sightly adjusted):"
   ]
  },
  {
   "cell_type": "code",
   "execution_count": 1,
   "metadata": {},
   "outputs": [
    {
     "name": "stdout",
     "output_type": "stream",
     "text": [
      "Matrix A:\n",
      " [[4 9 9]\n",
      " [9 1 6]\n",
      " [9 2 3]\n",
      " [2 2 5]]\n",
      "\n",
      "Matrix B:\n",
      " [[7 4]\n",
      " [4 1]\n",
      " [6 4]]\n",
      "\n"
     ]
    }
   ],
   "source": [
    "import numpy as np\n",
    "np.random.seed(27)\n",
    "A = np.random.randint(1,10,size = (4,3))\n",
    "B = np.random.randint(1,10,size = (3,2))\n",
    "print(f\"Matrix A:\\n {A}\\n\")\n",
    "print(f\"Matrix B:\\n {B}\\n\")"
   ]
  },
  {
   "cell_type": "markdown",
   "metadata": {},
   "source": [
    "This is the final result, we want to re-implement from scratch:"
   ]
  },
  {
   "cell_type": "code",
   "execution_count": 2,
   "metadata": {},
   "outputs": [
    {
     "data": {
      "text/plain": [
       "array([[118,  61],\n",
       "       [103,  61],\n",
       "       [ 89,  50],\n",
       "       [ 52,  30]])"
      ]
     },
     "execution_count": 2,
     "metadata": {},
     "output_type": "execute_result"
    }
   ],
   "source": [
    "A@B"
   ]
  },
  {
   "cell_type": "markdown",
   "metadata": {},
   "source": [
    "### Indexing in Python\n",
    "\n",
    "Maybe this is too obvious for many, but I find it worth noting, that the sequence in which python addresses arrays (or tensors) is first by row, than by column. What do I mean by saying that?\n",
    "\n",
    "When you want to index into an array, you do this by `array_name[row:column]`, for example `A[1,2]` return `6`, it is the second line (which is index 1 when starting to count at 0), and the third column (which is index 1 when starting to count at 0):"
   ]
  },
  {
   "cell_type": "code",
   "execution_count": 3,
   "metadata": {},
   "outputs": [
    {
     "data": {
      "text/plain": [
       "6"
      ]
     },
     "execution_count": 3,
     "metadata": {},
     "output_type": "execute_result"
    }
   ],
   "source": [
    "A[1,2]"
   ]
  },
  {
   "cell_type": "markdown",
   "metadata": {},
   "source": [
    "Is there a way to not only remember this, but to also understand this? Yes, I think so: The most basic array (tensor) is a list (rank 1 tensor), which we can think of as one **row** of numbers. Therefore, the first index represents the row. You can think of a 2-dimensional array (a rank 2 tensor) as adding the **columns** to a row of numbers (by adding more rows), therefore the second index represents the columns. Hence to access an element in a 2D-array (rank-2 tensor), this is done by `array_name[row:column]`."
   ]
  },
  {
   "cell_type": "markdown",
   "metadata": {},
   "source": [
    "Why do we think about indexing? First, to determine if a matrix multiplication is defined, we need to find the dimensions of the matrixes, and later on we need to access the matrix content for the calculation.\n",
    "\n",
    "To access a complete row or column, we use:\n",
    "\n",
    "* For a row: `array_name[row, : ]` or the short form `array_name[row]`\n",
    "* For a column: `array_name[ : ,column]` \n",
    "\n",
    "This means: We access a specific row or column by index, and from the other dimension, we access all elements. For example: "
   ]
  },
  {
   "cell_type": "code",
   "execution_count": 4,
   "metadata": {},
   "outputs": [
    {
     "data": {
      "text/plain": [
       "array([4, 9, 9])"
      ]
     },
     "execution_count": 4,
     "metadata": {},
     "output_type": "execute_result"
    }
   ],
   "source": [
    "# accessing the first row of matrix A\n",
    "\n",
    "A[0] #same as A[0,:]"
   ]
  },
  {
   "cell_type": "code",
   "execution_count": 5,
   "metadata": {},
   "outputs": [
    {
     "data": {
      "text/plain": [
       "array([7, 4, 6])"
      ]
     },
     "execution_count": 5,
     "metadata": {},
     "output_type": "execute_result"
    }
   ],
   "source": [
    "# accessing the first column of matrix B\n",
    "\n",
    "B[:,0]"
   ]
  },
  {
   "cell_type": "markdown",
   "metadata": {},
   "source": [
    "## Constructing a target matrix of zeros\n",
    "\n",
    "The $C$ target matrix has the same number of rows as A and the same number of columns of B, so in our example that is a matrix with 4 rows and 2 columns:"
   ]
  },
  {
   "cell_type": "code",
   "execution_count": 6,
   "metadata": {},
   "outputs": [
    {
     "data": {
      "text/plain": [
       "array([[0, 0],\n",
       "       [0, 0],\n",
       "       [0, 0],\n",
       "       [0, 0]])"
      ]
     },
     "execution_count": 6,
     "metadata": {},
     "output_type": "execute_result"
    }
   ],
   "source": [
    "np.zeros((4, 2), dtype = int)"
   ]
  },
  {
   "cell_type": "markdown",
   "metadata": {},
   "source": [
    "The number of rows is the length of a column, therefore, to get the number of rows of matrix A, we can write:   "
   ]
  },
  {
   "cell_type": "code",
   "execution_count": 7,
   "metadata": {},
   "outputs": [
    {
     "data": {
      "text/plain": [
       "4"
      ]
     },
     "execution_count": 7,
     "metadata": {},
     "output_type": "execute_result"
    }
   ],
   "source": [
    "len(A[:,0]) #i.e. the length of the first column"
   ]
  },
  {
   "cell_type": "markdown",
   "metadata": {},
   "source": [
    "Similarly, the number of elements in a row if the number of columns, Therefore, the number of columns of B is:"
   ]
  },
  {
   "cell_type": "code",
   "execution_count": 8,
   "metadata": {},
   "outputs": [
    {
     "data": {
      "text/plain": [
       "2"
      ]
     },
     "execution_count": 8,
     "metadata": {},
     "output_type": "execute_result"
    }
   ],
   "source": [
    "len(B[0]) #the number of entries in the first row"
   ]
  },
  {
   "cell_type": "markdown",
   "metadata": {},
   "source": [
    "While to above is correct, there is a more elegant way to write this. Each array (tensor) has an attribute `.shape` which tells us how many rows and columns an array has (notice the sequence in the tuple: `(row,column)`):"
   ]
  },
  {
   "cell_type": "code",
   "execution_count": 9,
   "metadata": {},
   "outputs": [
    {
     "name": "stdout",
     "output_type": "stream",
     "text": [
      "(4, 3)\n",
      "(3, 2)\n"
     ]
    }
   ],
   "source": [
    "print(A.shape)\n",
    "print(B.shape)\n"
   ]
  },
  {
   "cell_type": "markdown",
   "metadata": {},
   "source": [
    "Therefore, we can re-write:"
   ]
  },
  {
   "cell_type": "code",
   "execution_count": 10,
   "metadata": {},
   "outputs": [
    {
     "name": "stdout",
     "output_type": "stream",
     "text": [
      "Number of rows in matrix A: 4\n",
      "Number of columns in matrix B: 2\n"
     ]
    }
   ],
   "source": [
    "print(f'Number of rows in matrix A: {A.shape[0]}') \n",
    "print(f'Number of columns in matrix B: {B.shape[1]}')"
   ]
  },
  {
   "cell_type": "markdown",
   "metadata": {},
   "source": [
    "Now we can generically construct the target matrix $C$:"
   ]
  },
  {
   "cell_type": "code",
   "execution_count": 11,
   "metadata": {},
   "outputs": [
    {
     "data": {
      "text/plain": [
       "(4, 2)"
      ]
     },
     "execution_count": 11,
     "metadata": {},
     "output_type": "execute_result"
    }
   ],
   "source": [
    "C = np.zeros((A.shape[0], B.shape[1]), dtype = int)\n",
    "C.shape"
   ]
  },
  {
   "cell_type": "markdown",
   "metadata": {},
   "source": [
    "## Exercise: Implement Matrix Multiplication with numpy arrays\n",
    "\n",
    "Implement a function `multiply_matrix(A,B)` which does the following:\n",
    "\n",
    "* Accept two matrices, A and B, as inputs.\n",
    "* Check if matrix multiplication between A and B is valid, if not raise an error.\n",
    "* If valid, multiply the two matrices A and B, and return the product matrix C."
   ]
  },
  {
   "cell_type": "code",
   "execution_count": 12,
   "metadata": {},
   "outputs": [
    {
     "data": {
      "text/plain": [
       "array([[118,  61],\n",
       "       [103,  61],\n",
       "       [ 89,  50],\n",
       "       [ 52,  30]])"
      ]
     },
     "execution_count": 12,
     "metadata": {},
     "output_type": "execute_result"
    }
   ],
   "source": [
    "def multiply_matrix(A,B):\n",
    "    \n",
    "    if A.shape[1] != B.shape[0]:\n",
    "        raise ValueError('Number of columns of A and number of rows of B do not match')\n",
    "    \n",
    "    C = np.zeros((A.shape[0], B.shape[1]), dtype=int)\n",
    "\n",
    "    for row in range(C.shape[0]):\n",
    "        for column in range(C.shape[1]):\n",
    "            for step in range(A.shape[1]):\n",
    "                C[row, column] += A[row, step] * B[step, column]\n",
    "    \n",
    "    return C\n",
    "\n",
    "C1 = multiply_matrix(A, B)\n",
    "C1"
   ]
  },
  {
   "cell_type": "code",
   "execution_count": 13,
   "metadata": {},
   "outputs": [],
   "source": [
    "C2 = A@B\n",
    "assert np.array_equal(C1, C2)"
   ]
  },
  {
   "cell_type": "markdown",
   "metadata": {},
   "source": [
    "## Exercise: Implement Matrix Multiplication with tensors\n",
    "\n",
    "Just for the fun of it, let's re-implement the same with pytorch tensors. It turns out it same, same, but a little different:"
   ]
  },
  {
   "cell_type": "code",
   "execution_count": 14,
   "metadata": {},
   "outputs": [
    {
     "name": "stdout",
     "output_type": "stream",
     "text": [
      "Matrix X:\n",
      " tensor([[1, 1, 5],\n",
      "        [8, 8, 6],\n",
      "        [1, 7, 1],\n",
      "        [4, 4, 1]])\n",
      "\n",
      "Matrix Y:\n",
      " tensor([[7, 6],\n",
      "        [3, 7],\n",
      "        [9, 5]])\n",
      "\n"
     ]
    }
   ],
   "source": [
    "import torch\n",
    "\n",
    "torch.manual_seed(27) #https://pytorch.org/docs/stable/notes/randomness.html\n",
    "X = torch.randint(1,10,size = (4,3)) #https://pytorch.org/docs/stable/generated/torch.randint.html\n",
    "Y = torch.randint(1,10,size = (3,2))\n",
    "print(f\"Matrix X:\\n {X}\\n\")\n",
    "print(f\"Matrix Y:\\n {Y}\\n\")"
   ]
  },
  {
   "cell_type": "code",
   "execution_count": 15,
   "metadata": {},
   "outputs": [
    {
     "data": {
      "text/plain": [
       "tensor([[0, 0],\n",
       "        [0, 0],\n",
       "        [0, 0],\n",
       "        [0, 0]])"
      ]
     },
     "execution_count": 15,
     "metadata": {},
     "output_type": "execute_result"
    }
   ],
   "source": [
    "Z = torch.zeros((4, 2), dtype = int)\n",
    "Z"
   ]
  },
  {
   "cell_type": "code",
   "execution_count": 16,
   "metadata": {},
   "outputs": [
    {
     "data": {
      "text/plain": [
       "torch.Size([4, 2])"
      ]
     },
     "execution_count": 16,
     "metadata": {},
     "output_type": "execute_result"
    }
   ],
   "source": [
    "Z.shape"
   ]
  },
  {
   "cell_type": "code",
   "execution_count": 17,
   "metadata": {},
   "outputs": [
    {
     "data": {
      "text/plain": [
       "tensor([[ 55,  38],\n",
       "        [134, 134],\n",
       "        [ 37,  60],\n",
       "        [ 49,  57]])"
      ]
     },
     "execution_count": 17,
     "metadata": {},
     "output_type": "execute_result"
    }
   ],
   "source": [
    "def multiply_matrix_torch(A,B):\n",
    "    \n",
    "    if A.shape[1] != B.shape[0]:\n",
    "        raise ValueError('Number of columns of A and number of rows of B do not match')\n",
    "    \n",
    "    C = torch.zeros((A.shape[0], B.shape[1]), dtype=int)\n",
    "\n",
    "    for row in range(C.shape[0]):\n",
    "        for column in range(C.shape[1]):\n",
    "            for step in range(A.shape[1]):\n",
    "                C[row, column] += A[row, step] * B[step, column]\n",
    "    \n",
    "    return C\n",
    "\n",
    "Z1 = multiply_matrix_torch(X, Y)\n",
    "Z1"
   ]
  },
  {
   "cell_type": "code",
   "execution_count": 18,
   "metadata": {},
   "outputs": [],
   "source": [
    "Z2 = X@Y\n",
    "assert torch.equal(Z1, Z2) == True"
   ]
  },
  {
   "cell_type": "markdown",
   "metadata": {},
   "source": [
    "That concludes the \"exploration\" of matrix multiplication, I learned a lot along the way :). "
   ]
  }
 ],
 "metadata": {
  "kernelspec": {
   "display_name": "Python 3 (ipykernel)",
   "language": "python",
   "name": "python3"
  },
  "language_info": {
   "codemirror_mode": {
    "name": "ipython",
    "version": 3
   },
   "file_extension": ".py",
   "mimetype": "text/x-python",
   "name": "python",
   "nbconvert_exporter": "python",
   "pygments_lexer": "ipython3",
   "version": "3.10.4"
  },
  "vscode": {
   "interpreter": {
    "hash": "d9da906b64701e68312bc07fbc15a3a13814f930718c2c6b0e41a29d035806a3"
   }
  }
 },
 "nbformat": 4,
 "nbformat_minor": 4
}
