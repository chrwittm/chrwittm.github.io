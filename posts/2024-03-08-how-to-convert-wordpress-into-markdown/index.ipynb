{
 "cells": [
  {
   "cell_type": "raw",
   "metadata": {},
   "source": [
    "---\n",
    "title: \"How to Convert a Wordpress Blog into Markdown\"\n",
    "author: \"Christian Wittmann\"\n",
    "date: \"2024-03-08\"\n",
    "categories: [wordpress, markdown, dataset]\n",
    "image: \"wordpress2markdown.png\"\n",
    "---"
   ]
  },
  {
   "cell_type": "markdown",
   "metadata": {},
   "source": [
    "UPDATE DATE / PICTURE\n",
    "\n",
    "In this blog post, I will guide you through the steps to convert a Wordpress blog into markdown. While this my seem like a unrelated subject of this blog, it is a preparative for building a Retrieval Augmented Generation (RAG) notebook.\n",
    "\n",
    "Why did I turn it into a blog post of its own? First of all, the conversion process was more difficult and extensive than expected, therefore I felt that this is worth sharing. Additionally, it highlights (again) that data is key in any machine learning project, and that data preparation can be a project of its own.\n",
    "\n",
    "By now, the Wittmann-Tours blog is available my [Wittmann-Tours GitHub repo](https://github.com/chrwittm/wittmann-tours) under [license CC-BY NC](http://creativecommons.org/licenses/by-nc/4.0/)."
   ]
  },
  {
   "cell_type": "markdown",
   "metadata": {},
   "source": [
    "<style>\n",
    "  figure {\n",
    "    display: block;\n",
    "    margin-left: auto;\n",
    "    margin-right: auto;\n",
    "    text-align: center;\n",
    "  }\n",
    "</style>\n",
    "\n",
    "<figure>\n",
    "    <img src=\"wordpress2markdown.png\" alt=\"Dalle: The Conversion from Wordpress to Markdown - with some edits in Photoshop\" style=\"width:50%;\">\n",
    "    <figcaption>Dalle: The Conversion from Wordpress to Markdown - with some edits in Photoshop</figcaption>\n",
    "</figure>"
   ]
  },
  {
   "cell_type": "markdown",
   "metadata": {},
   "source": [
    "## Before we Start\n",
    "\n",
    "Please treat this blog post as the personal documentation of how I did the conversion. I was somewhat surprised that there were so few resources on the internet covering the topic of converting Wordpress to markdown. I am definitively no expert on this subject, but following the steps documented in this blog post, I got the job [done](http://manifestos.mombartz.com/the-cult-of-done/).\n",
    "\n",
    "After a bit of research I ended up working with [this repo](https://github.com/Swizec/wordpress-to-markdown) from [Swizec](https://github.com/Swizec). Thanks for putting this repo out there!"
   ]
  },
  {
   "cell_type": "markdown",
   "metadata": {},
   "source": [
    "## Step 1: Export the XML from Wordpress\n",
    "\n",
    "The first step the conversion process is to export your Wordpress blog content as an XML file. Here’s how to do it:\n",
    "\n",
    "**Navigate to the export** function of Wordpress blog by entering your site’s URL followed by `/wp-admin/export.php`, for example, <https://wittmann-tours.de/wp-admin/export.php>. Alternatively, you can navigate like this:\n",
    "\n",
    "- **Log into your Wordpress Dashboard.** Navigate to the admin area of your Wordpress blog by entering your site’s URL followed by `/wp-admin`. Use your credentials to log in.\n",
    "- **Access the Tools section.** Once logged in, look for the `Tools` option in the left-hand sidebar. Hover over it, and you will see a dropdown menu.\n",
    "- **Select Export:** In the dropdown menu under `Tools`, click on `Export`. This will take you to a page where you can choose what content you want to export. For a complete backup of your site, select `All content`.\n",
    "\n",
    "Finally, you can **download the export file:** After selecting `All content`, click on the `Download Export File` button. Wordpress will generate an XML file containing all your selected data. Save this file to your computer."
   ]
  },
  {
   "cell_type": "markdown",
   "metadata": {},
   "source": [
    "## Step 2: Check Software Requirements\n",
    "\n",
    "Depending on your setup, you might need to install some software first. Here is what we need:\n",
    "\n",
    "1. **Node.js**: Node.js is a runtime environment that allows you to run JavaScript code outside of a web browser. It's commonly used for server-side scripting and building backend services (like APIs), but it's also used in tooling for front-end development, automation tasks, and more. In this case, Node.js is used to run the `wordpress-to-markdown` conversion script.\n",
    "\n",
    "2. **npm (Node Package Manager)**: npm is the default package manager for Node.js. It is used to install and manage dependencies (libraries, frameworks, tools, etc.) required by Node.js applications. npm facilitates easy sharing and reuse of code. When you install Node.js, npm should be included in the installation. In this case, we need npm to install Yarn.\n",
    "\n",
    "3. **Yarn**: Yarn is an alternative package manager to npm. It performs the same basic function as npm (managing dependencies for Node.js applications) but often with some differences in performance, features, and the way dependencies are handled. In this case, Yarn was used to manage the dependencies of the `wordpress-to-markdown` script."
   ]
  },
  {
   "cell_type": "markdown",
   "metadata": {},
   "source": [
    "## Step 3: Install Node.js and Yarn\n",
    "\n",
    "If your system already fulfills these software requirements, feel free to skip this section.\n",
    "\n",
    "### Installing Node.js\n",
    "\n",
    "1. **Download Node.js.** Visit the [official Node.js website](https://nodejs.org/) to download the latest version of Node.js. Choose the version that is compatible with your operating system.\n",
    "\n",
    "2. **Install Node.js.** Follow the installation prompts to install Node.js on your system. The installer will guide you through the process.\n",
    "\n",
    "3. **Verify the installation.** To ensure that Node.js was installed correctly, open a terminal or command prompt and type the following commands:\n",
    "    ```bash\n",
    "    node -v\n",
    "    npm -v\n",
    "    ```\n",
    "    These commands will display the versions of Node.js and npm installed on your system. Seeing the version numbers confirms that the installation was successful.\n",
    "\n",
    "### Installing Yarn\n",
    "\n",
    "1. **Open your terminal or command prompt.**\n",
    "\n",
    "2. **Install Yarn globally using npm.** Type the following command:\n",
    "    ```bash\n",
    "    npm install -g yarn\n",
    "    ```\n",
    "    If you encounter permission errors, it might be necessary to run the command as an administrator or with superuser rights. In such cases, use:\n",
    "    ```bash\n",
    "    sudo npm install -g yarn\n",
    "    ```\n",
    "    This will prompt you for your password to grant the necessary permissions.\n",
    "\n",
    "3. **Verify the installation.** To check if Yarn has been installed correctly, run:\n",
    "    ```bash\n",
    "    yarn -v\n",
    "    ```\n",
    "    This command will display the version of Yarn installed, indicating that the installation was successful.\n",
    "\n",
    "### Final Checks\n",
    "\n",
    "- **Check the PATH.** It's important to ensure that the installation paths for Node.js and Yarn are correctly added to your system's PATH environment variable. This allows you to run these tools from any directory in your terminal. To check your PATH, type:\n",
    "    ```bash\n",
    "    echo $PATH\n",
    "    ```\n",
    "    Verify that the paths to Node.js and Yarn are included in the output.\n",
    "\n",
    "After completing these steps, your system will be equipped with Node.js and Yarn, ready for the next phase of converting your Wordpress blog into Markdown."
   ]
  },
  {
   "cell_type": "markdown",
   "metadata": {},
   "source": [
    "## Step 4: Clone the Repository and Run the Conversion Script\n",
    "\n",
    "In this step we clone the [GitHub repository](https://github.com/Swizec/wordpress-to-markdown) and run the conversion script:\n",
    "\n",
    "1. **Open your terminal or command prompt:** Ensure you're in the directory where you want to clone the repository.\n",
    "\n",
    "2. **Clone the repository:** Execute the following command to clone the `wordpress-to-markdown` repository created by Swizec:\n",
    "    ```bash\n",
    "    git clone https://github.com/Swizec/wordpress-to-markdown\n",
    "    ```\n",
    "    This command downloads the repository to your local machine in a folder named `wordpress-to-markdown`.\n",
    "\n",
    "3. **Navigate to the repository directory:** Change into the newly cloned directory to run the conversion commands:\n",
    "    ```bash\n",
    "    cd wordpress-to-markdown\n",
    "    ```\n",
    "\n",
    "4. **Install dependencies:** Before running the conversion script, you must install its dependencies. Use Yarn to install them by executing:\n",
    "    ```bash\n",
    "    yarn install\n",
    "    ```\n",
    "    This command reads the `package.json` file in the repository and installs all the necessary packages and dependencies required to run the conversion script.\n",
    "\n",
    "5. **Copy XML for `wordpress-to-markdown` directory:** Copy the XML-file you downloaded in step 1 into `wordpress-to-markdown` directory.\n",
    "\n",
    "6. **Adjust script or rename XML-file:** Either rename your XML-file to `test-wordpress-dump.xml` or change line 25 of `convert.js` to the file name of your XML.\n",
    "\n",
    "7. **Run the conversion script:** After installing the dependencies, you can now run the conversion script with Yarn:\n",
    "    ```bash\n",
    "    yarn convert\n",
    "    ```\n",
    "    This command initiates the conversion process, which reads your exported Wordpress XML file and converts its contents into Markdown files.\n",
    "\n",
    "\n",
    "Once this step is completed, you have successfully converted your Wordpress blog content into Markdown `mdx`-files. The files are store in a new `out`-directory, containing one sub-directory per blog post."
   ]
  },
  {
   "cell_type": "markdown",
   "metadata": {},
   "source": [
    "## Step 5: Convert `mdx`-files to `md`-files\n",
    "\n",
    "So far so good, but I was not yet 100% happy, because the `mdx`-files did not contain a proper level-1-heading, and Obsidian ignored the files.\n",
    "\n",
    "To convert the `mdx`-files to `md`-files, I created a quick [conversion notebook](https://github.com/chrwittm/wittmann-tours/blob/main/convert-mdx-to-md.ipynb) which made these final adjustments."
   ]
  },
  {
   "cell_type": "markdown",
   "metadata": {},
   "source": [
    "## Conclusion\n",
    "\n",
    "Converting a Wordpress blog into Markdown turned out to be more complex than anticipated. Somehow I had anticipated there would be a simple, straightforward Wordpress plugin to get this done quickly, but no...\n",
    "\n",
    "In the process to doing the conversion, I decided to document each step of the conversion in detail within this blog post. Not only did I want a reference for myself, knowing that revisiting the process even after a few weeks could be challenging without detailed notes, but I hope this guide is also useful for you reading this blog post.\n",
    "\n",
    "Finally, preparing the data source for my RAG project is done, which turned out to be a project of its own. (LINK)"
   ]
  }
 ],
 "metadata": {
  "kernelspec": {
   "display_name": "base",
   "language": "python",
   "name": "python3"
  },
  "language_info": {
   "codemirror_mode": {
    "name": "ipython",
    "version": 3
   },
   "file_extension": ".py",
   "mimetype": "text/x-python",
   "name": "python",
   "nbconvert_exporter": "python",
   "pygments_lexer": "ipython3",
   "version": "3.10.12"
  }
 },
 "nbformat": 4,
 "nbformat_minor": 2
}
