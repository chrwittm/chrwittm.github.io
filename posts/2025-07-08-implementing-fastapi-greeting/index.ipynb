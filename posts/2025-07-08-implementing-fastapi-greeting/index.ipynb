{
 "cells": [
  {
   "cell_type": "raw",
   "id": "45add86c",
   "metadata": {
    "vscode": {
     "languageId": "raw"
    }
   },
   "source": [
    "---\n",
    "title: \"Implementing a Greeting API with FastAPI\"\n",
    "author: \"Christian Wittmann\"\n",
    "date: \"2025-07-08\"\n",
    "categories: [fastapi, jupyter]\n",
    "image: \"fastapi-jupyter.png\"\n",
    "---"
   ]
  },
  {
   "cell_type": "markdown",
   "id": "817413ff",
   "metadata": {},
   "source": [
    "Creating a RESTful API may sound complicated, but with [FastAPI](https://fastapi.tiangolo.com/), it’s remarkably straightforward. FastAPI is a modern, high-performance web framework for building APIs with Python, designed to be both easy to use and fast to run.\n",
    "\n",
    "This blog post, combined with two follow-ups ([version 1 (educational)](fast-api-greeting-deployment-render.ipynb) and [version 2 (SAP BTP)](fast-api-greeting-deployment-btp.ipynb)), is an extended version of a simple FastAPI example I created for a recent hackathon. The goal was to provide a minimal, reusable, beginner-friendly template that’s practical for small projects and prototyping.\n",
    "\n",
    "In this guide, I’ll walk you through building a simple greeting service using FastAPI, implemented in two common API styles:\n",
    "\n",
    "- Query-based greeting: A basic version that accepts a name via a URL query parameter using a `GET` request.\n",
    "- JSON-based greeting: A more structured version that accepts a name in a JSON payload using a `POST` request.\n",
    "\n",
    "The full solution includes:\n",
    "\n",
    "- A greeting server (this blog post, also available as a notebook on GitHub), which defines the FastAPI application.\n",
    "- A client notebook demonstrating how to call the API using Python code, with separate notebooks for the [`GET` version](fast-api-greeting-client-get-local.ipynb) and [`POST` version](fast-api-greeting-client-post-local.ipynb).\n",
    "- A simple HTML frontend that interacts with the API in the browser, available for both the [query-based version](../docs/greet-client-get.html) and the [JSON-based version](../docs/greet-client-post.html).\n"
   ]
  },
  {
   "cell_type": "markdown",
   "id": "d9b3b966",
   "metadata": {},
   "source": [
    "## Installation\n",
    "\n",
    "If you haven’t installed FastAPI yet, you’ll need the following Python packages:\n",
    "\n",
    "- fastapi ([GitHub repo](https://github.com/tiangolo/fastapi)): FastAPI is a modern, high-performance web framework for building APIs with Python, based on standard Python type hints. It handles request parsing, validation, routing, and automatic documentation generation.\n",
    "- uvicorn ([official site](https://www.uvicorn.org/) | [GitHub](https://github.com/encode/uvicorn)): Uvicorn is an [ASGI](https://asgi.readthedocs.io/en/latest/) (Asynchronous Server Gateway Interface) web server used to run FastAPI applications.\n",
    "- nest_asyncio ([PyPI](https://pypi.org/project/nest-asyncio/)): This package is required when running asynchronous code like FastAPI inside a Jupyter notebook. It patches the loop to support nested async operations.\n",
    "\n",
    "You can install all of them using pip:\n",
    "\n",
    "```bash\n",
    "pip install fastapi uvicorn nest_asyncio\n",
    "```\n"
   ]
  },
  {
   "cell_type": "markdown",
   "id": "148f828d",
   "metadata": {},
   "source": [
    "## Greeting 1 – Using URL Query Parameters (GET Request)\n",
    "\n",
    "Let’s start with a simple version of the greeting server that uses query parameters to pass data via a `GET` request.\n",
    "\n",
    "In this version, the user’s name is appended to the URL (e.g., `?name=Christian`), and the server returns a greeting.\n",
    "\n",
    "The following cell sets up the FastAPI application and starts the server using Uvicorn:"
   ]
  },
  {
   "cell_type": "code",
   "execution_count": 8,
   "id": "4ad78f47",
   "metadata": {},
   "outputs": [
    {
     "name": "stderr",
     "output_type": "stream",
     "text": [
      "INFO:     Started server process [20971]\n",
      "INFO:     Waiting for application startup.\n",
      "INFO:     Application startup complete.\n",
      "INFO:     Uvicorn running on http://127.0.0.1:8000 (Press CTRL+C to quit)\n"
     ]
    },
    {
     "name": "stdout",
     "output_type": "stream",
     "text": [
      "INFO:     127.0.0.1:64879 - \"GET /docs HTTP/1.1\" 200 OK\n",
      "INFO:     127.0.0.1:64879 - \"GET /openapi.json HTTP/1.1\" 200 OK\n",
      "INFO:     127.0.0.1:64879 - \"GET /redoc HTTP/1.1\" 200 OK\n",
      "INFO:     127.0.0.1:64879 - \"GET /openapi.json HTTP/1.1\" 200 OK\n"
     ]
    },
    {
     "name": "stderr",
     "output_type": "stream",
     "text": [
      "INFO:     Shutting down\n",
      "INFO:     Waiting for application shutdown.\n",
      "INFO:     Application shutdown complete.\n",
      "INFO:     Finished server process [20971]\n"
     ]
    }
   ],
   "source": [
    "from fastapi import FastAPI\n",
    "import nest_asyncio\n",
    "import uvicorn\n",
    "\n",
    "# Apply nest_asyncio to allow running FastAPI in Jupyter notebooks\n",
    "nest_asyncio.apply() # only needed in Jupyter notebooks\n",
    "\n",
    "# Create a FastAPI application instance\n",
    "app = FastAPI()\n",
    "\n",
    "# Define a root endpoint\n",
    "@app.get(\"/\")\n",
    "def root():\n",
    "    return {\"message\": f\"Hello World\"}\n",
    "\n",
    "# Define a greeting endpoint\n",
    "@app.get(\"/greet\")\n",
    "def greet(name: str = \"World\"):\n",
    "    return {\"message\": f\"Hello {name}\"}\n",
    "\n",
    "# Run the FastAPI application using Uvicorn\n",
    "uvicorn.run(app, host=\"127.0.0.1\", port=8000)"
   ]
  },
  {
   "cell_type": "markdown",
   "id": "42209605",
   "metadata": {},
   "source": [
    "To test the greeting API, you have the following options while the server is running:\n",
    "\n",
    "- Open http://127.0.0.1:8000/ in your browser for a default “Hello World” message.\n",
    "- Open http://127.0.0.1:8000/greet?name=Christian in your browser (replace \"Christian\" with your name) to see your greeting message.\n",
    "- Use the [greeting client notebook](fast-api-greeting-client-get-local.ipynb) to call the greeting API using Python code.\n",
    "- Access the automatically generated [Swagger UI](http://127.0.0.1:8000/docs) to test and explore the API interactively.\n",
    "\n",
    "To stop the server, just interrupt the cell execution (e.g., with the ⏹️ stop button)."
   ]
  },
  {
   "cell_type": "markdown",
   "id": "e3d1297d",
   "metadata": {},
   "source": [
    "## API Documentation in Detail\n",
    "\n",
    "FastAPI automatically generates rich API documentation based on the [OpenAPI](https://www.openapis.org/) standard. It uses Python type hints and [Pydantic](https://docs.pydantic.dev/latest/) models to build a machine-readable specification of your API.\n",
    "\n",
    "FastAPI provides the following documentation endpoints out of the box:\n",
    "\n",
    "- OpenAPI schema (JSON): Available at [`/openapi.json`](http://127.0.0.1:8000/openapi.json), this machine-readable schema defines the structure of your API for tools and clients.\n",
    "- Swagger UI: Accessible at [`/docs`](http://127.0.0.1:8000/docs), this interactive UI lets you explore and test endpoints directly from your browser.\n",
    "- ReDoc: A more elegant, documentation-focused view is available at [`/redoc`](http://127.0.0.1:8000/redoc).\n",
    "\n",
    "Both Swagger vs ReDoc are built on the same OpenAPI specification, but serve different purposes. Swagger UI is ideal for developers who want to explore and test the API interactively while ReDoc is better suited for read-only API documentation, it is a more elegant and mobile-friendly view of the API documentation.\n",
    "\n",
    "### Enriching the API Documentation\n",
    "\n",
    "While FastAPI generates a lot of metadata automatically, you can improve clarity and usability by adding explicit descriptions. In the following example we'll add the following enhancements to the API documentation:\n",
    "\n",
    "- API metadata: Set the title, description, and version  of the API via `FastAPI(title=..., description=..., version=...)`\n",
    "- Endpoint metadata:\n",
    "  - `summary`: A short label shown in the UI\n",
    "  - `description`: You can add longer explanation. If this parameter is not set, it defaults to the function’s docstring\n",
    "  - `response_description`: Text shown next to the response block\n",
    "- Response models: Defined via Pydantic `BaseModel` classes we can define the structure of the response data.\n",
    "- Query parameter descriptions: Set using `Query(..., description=...)` we can provide a default value and a description for the query parameter."
   ]
  },
  {
   "cell_type": "code",
   "execution_count": 9,
   "id": "8ad22e30",
   "metadata": {},
   "outputs": [
    {
     "name": "stderr",
     "output_type": "stream",
     "text": [
      "INFO:     Started server process [20971]\n",
      "INFO:     Waiting for application startup.\n",
      "INFO:     Application startup complete.\n",
      "INFO:     Uvicorn running on http://127.0.0.1:8000 (Press CTRL+C to quit)\n"
     ]
    },
    {
     "name": "stdout",
     "output_type": "stream",
     "text": [
      "INFO:     127.0.0.1:64882 - \"GET /docs HTTP/1.1\" 200 OK\n",
      "INFO:     127.0.0.1:64882 - \"GET /openapi.json HTTP/1.1\" 200 OK\n"
     ]
    },
    {
     "name": "stderr",
     "output_type": "stream",
     "text": [
      "INFO:     Shutting down\n",
      "INFO:     Waiting for application shutdown.\n",
      "INFO:     Application shutdown complete.\n",
      "INFO:     Finished server process [20971]\n"
     ]
    }
   ],
   "source": [
    "from fastapi import FastAPI, Query\n",
    "from pydantic import BaseModel\n",
    "import nest_asyncio\n",
    "import uvicorn\n",
    "\n",
    "nest_asyncio.apply()\n",
    "\n",
    "app = FastAPI(\n",
    "    title=\"Greeting API\",\n",
    "    description=\"A simple API that returns a personalized greeting to the user or the world.\",\n",
    "    version=\"1.0.0\"\n",
    ")\n",
    "\n",
    "class GreetingResponse(BaseModel):\n",
    "    message: str\n",
    "\n",
    "@app.get(\n",
    "    \"/greet\",\n",
    "    summary=\"Generates a greeting\",\n",
    "    #description=\"Use this parameter if you want to overwrite the function's docstring.\",\n",
    "    response_description=\"A JSON response with the greeting message\",\n",
    "    response_model=GreetingResponse,\n",
    ")\n",
    "def greet(name: str = Query(default=\"World\", description=\"The name of the person to greet.\")):\n",
    "    \"\"\"\n",
    "    Generates a simple greeting.\n",
    "\n",
    "    This endpoint takes a `name` query parameter and returns a JSON object\n",
    "    with a personalized message. If no name is provided, it defaults to \"World\".\n",
    "    \"\"\"\n",
    "    return {\"message\": f\"Hello {name}\"}\n",
    "\n",
    "uvicorn.run(app, host=\"127.0.0.1\", port=8000)"
   ]
  },
  {
   "cell_type": "markdown",
   "id": "07940f28",
   "metadata": {},
   "source": [
    "## Calling the API\n",
    "\n",
    "You probably have tested the API using the browser, the [greeting client notebook](fast-api-greeting-client-get-local.ipynb), or the [Swagger UI](http://127.0.0.1:8000/docs). Let's make this a little for realistic and call the API using a simple HTML frontend. The [HTML-version of the greeting client](../docs/greet-client-get.html) (download the file and run it locally) contains a simple form that allows you to enter your name and submit it to the API. The response is displayed in the browser.\n",
    "\n",
    "When you try to call the API in your browser, however, it does not work... The reason is that the HTML file is served from the file (`file://{path}/greet-client-get.html`) system, and when you try to call the API from the HTML file using JavaScript (running on `http://127.0.0.1:8000/`), you will get a CORS (Cross-Origin Resource Sharing) error. This is because the browser blocks the request to the API from a different origin. This is unlike the API test from the Swagger UI, which runs on the same origin as the API (`http://127.0.0.1:8000/`).\n",
    "\n",
    "To fix this, we need to enable CORS in the FastAPI application. FastAPI provides a middleware to handle CORS requests. When you run the following cell, it will start the FastAPI server with CORS enabled, and you can all the API from the [HTML-version of the greeting client](../docs/greet-client-get.html)."
   ]
  },
  {
   "cell_type": "code",
   "execution_count": 2,
   "id": "7f1c4109",
   "metadata": {},
   "outputs": [
    {
     "name": "stderr",
     "output_type": "stream",
     "text": [
      "INFO:     Started server process [20971]\n",
      "INFO:     Waiting for application startup.\n",
      "INFO:     Application startup complete.\n",
      "INFO:     Uvicorn running on http://127.0.0.1:8000 (Press CTRL+C to quit)\n"
     ]
    },
    {
     "name": "stdout",
     "output_type": "stream",
     "text": [
      "INFO:     127.0.0.1:62137 - \"OPTIONS /greet?name=Christian HTTP/1.1\" 200 OK\n",
      "INFO:     127.0.0.1:62138 - \"GET /greet?name=Christian HTTP/1.1\" 200 OK\n",
      "INFO:     127.0.0.1:62138 - \"GET /greet?name=Christian HTTP/1.1\" 200 OK\n"
     ]
    },
    {
     "name": "stderr",
     "output_type": "stream",
     "text": [
      "INFO:     Shutting down\n",
      "INFO:     Waiting for application shutdown.\n",
      "INFO:     Application shutdown complete.\n",
      "INFO:     Finished server process [20971]\n"
     ]
    }
   ],
   "source": [
    "from fastapi import FastAPI\n",
    "from fastapi.middleware.cors import CORSMiddleware\n",
    "import nest_asyncio\n",
    "import uvicorn\n",
    "\n",
    "nest_asyncio.apply()\n",
    "\n",
    "app = FastAPI()\n",
    "\n",
    "# Enable CORS so browser fetch() can talk to it\n",
    "app.add_middleware(\n",
    "    CORSMiddleware,\n",
    "    allow_origins=[\"*\"],  # For local testing only\n",
    "    allow_credentials=True,\n",
    "    allow_methods=[\"*\"],\n",
    "    allow_headers=[\"*\"],\n",
    ")\n",
    "\n",
    "# Define a greeting endpoint\n",
    "@app.get(\"/greet\")\n",
    "def greet(name: str = \"World\"):\n",
    "    return {\"message\": f\"Hello {name}\"}\n",
    "\n",
    "# Run the FastAPI application using Uvicorn\n",
    "uvicorn.run(app, host=\"127.0.0.1\", port=8000)"
   ]
  },
  {
   "cell_type": "markdown",
   "id": "b7c00d30",
   "metadata": {},
   "source": [
    "The CORS middleware is required whenever your frontend and backend run on different origins. In production it is therefore needed where APIs and frontends are deployed separately. For local testing, it’s safe to allow all origins with [\"*\"], but in production, you should restrict access to trusted domains."
   ]
  },
  {
   "cell_type": "markdown",
   "id": "69be63c6",
   "metadata": {},
   "source": [
    "## Greeting 2 - Using JSON Payload (POST Request)\n",
    "\n",
    "So far, we have implemented the API using a GET request with a query parameter to pass the name to the server using URL query parameters. This is a common pattern for simple APIs, but it has some limitations: The URL length is limited, and it is not suitable for complex data structures. Therefore, we will implement a second version of the greeting server, which uses a JSON payload to pass the name to the server using a POST request:\n",
    "\n",
    "```json\n",
    "{\n",
    "  \"name\": \"Christian\"\n",
    "}\n",
    "```"
   ]
  },
  {
   "cell_type": "code",
   "execution_count": 10,
   "id": "d4192295",
   "metadata": {},
   "outputs": [
    {
     "name": "stderr",
     "output_type": "stream",
     "text": [
      "INFO:     Started server process [20971]\n",
      "INFO:     Waiting for application startup.\n",
      "INFO:     Application startup complete.\n",
      "INFO:     Uvicorn running on http://127.0.0.1:8000 (Press CTRL+C to quit)\n"
     ]
    },
    {
     "name": "stdout",
     "output_type": "stream",
     "text": [
      "INFO:     127.0.0.1:64912 - \"GET /docs HTTP/1.1\" 200 OK\n",
      "INFO:     127.0.0.1:64912 - \"GET /openapi.json HTTP/1.1\" 200 OK\n",
      "INFO:     127.0.0.1:64913 - \"GET /openapi.json HTTP/1.1\" 200 OK\n",
      "INFO:     127.0.0.1:64913 - \"GET /docs HTTP/1.1\" 200 OK\n",
      "INFO:     127.0.0.1:64913 - \"GET /openapi.json HTTP/1.1\" 200 OK\n",
      "INFO:     127.0.0.1:64913 - \"GET /redoc HTTP/1.1\" 200 OK\n",
      "INFO:     127.0.0.1:64913 - \"GET /openapi.json HTTP/1.1\" 200 OK\n",
      "INFO:     127.0.0.1:64914 - \"GET /docs HTTP/1.1\" 200 OK\n",
      "INFO:     127.0.0.1:64914 - \"GET /openapi.json HTTP/1.1\" 200 OK\n",
      "INFO:     127.0.0.1:64914 - \"GET /redoc HTTP/1.1\" 200 OK\n",
      "INFO:     127.0.0.1:64914 - \"GET /openapi.json HTTP/1.1\" 200 OK\n",
      "INFO:     127.0.0.1:64914 - \"GET /openapi.json HTTP/1.1\" 200 OK\n"
     ]
    },
    {
     "name": "stderr",
     "output_type": "stream",
     "text": [
      "INFO:     Shutting down\n",
      "INFO:     Waiting for application shutdown.\n",
      "INFO:     Application shutdown complete.\n",
      "INFO:     Finished server process [20971]\n"
     ]
    }
   ],
   "source": [
    "from fastapi import FastAPI\n",
    "from pydantic import BaseModel\n",
    "from fastapi.middleware.cors import CORSMiddleware\n",
    "import nest_asyncio\n",
    "import uvicorn\n",
    "\n",
    "# Allow uvicorn to run inside the notebook\n",
    "nest_asyncio.apply()\n",
    "\n",
    "# Define the FastAPI app\n",
    "app = FastAPI()\n",
    "\n",
    "# Enable CORS so browser fetch() can talk to it\n",
    "app.add_middleware(\n",
    "    CORSMiddleware,\n",
    "    allow_origins=[\"*\"],  # For local testing only\n",
    "    allow_credentials=True,\n",
    "    allow_methods=[\"*\"],\n",
    "    allow_headers=[\"*\"],\n",
    ")\n",
    "\n",
    "# Define a Pydantic model for the expected JSON input\n",
    "class NameRequest(BaseModel):\n",
    "    name: str\n",
    "\n",
    "# POST endpoint that expects JSON input\n",
    "@app.post(\"/greet\")\n",
    "def greet_name(request: NameRequest):\n",
    "    return {\"message\": f\"Hello {request.name}\"}\n",
    "\n",
    "# Start the FastAPI server (in the same cell!)\n",
    "uvicorn.run(app, host=\"127.0.0.1\", port=8000)"
   ]
  },
  {
   "cell_type": "markdown",
   "id": "651d1d9c",
   "metadata": {},
   "source": [
    "Testing this API in the browser is not possible, but we need a form to submit the data. You can choose one of the following options:\n",
    "\n",
    "- Run the [Greeting Client Notebook](fast-api-greeting-client-post-local.ipynb)\n",
    "- Use the [HTML-version of the greeting client](../docs/greet-client-post.html) to submit the data via a form in your browser (download the file and open it in your browser).\n",
    "- Use the [Swagger UI](http://127.0.0.1:8000/docs) to test the API interactively.\n",
    "\n",
    "Regarding documentation, we can use the same approaches as for the first version of the greeting server."
   ]
  },
  {
   "cell_type": "markdown",
   "id": "810bcd6a",
   "metadata": {},
   "source": [
    "## Putting It All Together\n",
    "\n",
    "To wrap up this blog post, the following cell contains everything we’ve discussed in one place. It implements the Greeting API using both `GET` and `POST` methods. Note that both endpoints are on the same route (`/greet`). FastAPI allows us to define multiple HTTP methods for the same endpoint by using different decorators (`@app.get` and `@app.post`).\n",
    "\n",
    "This version also includes improved metadata and documentation. You can explore the API through the:\n",
    "\n",
    "- [Swagger UI](http://127.0.0.1:8000/docs) – interactive and developer-friendly\n",
    "- [ReDoc documentation](http://127.0.0.1:8000/redoc) – elegant and mobile-friendly\n",
    "- [OpenAPI schema](http://127.0.0.1:8000/openapi.json) – machine-readable JSON\n",
    "\n",
    "Finally, I included a more realistic CORS configuration that allows the API to be accessed only from `localhost` (typically `127.0.0.1`, as used during local testing) or from the test UI deployed on [GitHub Pages](https://chrwittm.github.io/fastapi-greeting-api/index.html). The only caveat is that testing directly from the file system (`file://`) no longer works, since `file://` cannot be specified as a valid CORS origin.\n",
    "\n",
    "Nonetheless, once you run the following cell, you can test both versions of the API from with these resources:\n",
    "\n",
    "- The client notebooks for [`GET`](fast-api-greeting-client-get-local.ipynb) and [`POST`](fast-api-greeting-client-post-local.ipynb)\n",
    "- The [HTML frontends](https://chrwittm.github.io/fastapi-greeting-api/index.html) for [query-based](https://chrwittm.github.io/fastapi-greeting-api/greet-client-get.html) and [JSON-based](https://chrwittm.github.io/fastapi-greeting-api/greet-client-post.html) versions"
   ]
  },
  {
   "cell_type": "code",
   "execution_count": 6,
   "id": "b3009b2f",
   "metadata": {},
   "outputs": [
    {
     "name": "stderr",
     "output_type": "stream",
     "text": [
      "INFO:     Started server process [20971]\n",
      "INFO:     Waiting for application startup.\n",
      "INFO:     Application startup complete.\n",
      "INFO:     Uvicorn running on http://127.0.0.1:8000 (Press CTRL+C to quit)\n"
     ]
    },
    {
     "name": "stdout",
     "output_type": "stream",
     "text": [
      "INFO:     127.0.0.1:64653 - \"OPTIONS /greet HTTP/1.1\" 400 Bad Request\n"
     ]
    },
    {
     "name": "stderr",
     "output_type": "stream",
     "text": [
      "INFO:     Shutting down\n",
      "INFO:     Waiting for application shutdown.\n",
      "INFO:     Application shutdown complete.\n",
      "INFO:     Finished server process [20971]\n"
     ]
    }
   ],
   "source": [
    "from fastapi import FastAPI, Query\n",
    "from pydantic import BaseModel\n",
    "from fastapi.middleware.cors import CORSMiddleware\n",
    "import nest_asyncio\n",
    "import uvicorn\n",
    "\n",
    "# Allow FastAPI to run inside a Jupyter notebook\n",
    "nest_asyncio.apply()\n",
    "\n",
    "# Define the FastAPI app\n",
    "app = FastAPI(\n",
    "    title=\"Greeting API\",\n",
    "    description=\"A simple API that returns a personalized greeting, either via URL query parameters or JSON payload.\",\n",
    "    version=\"1.0.0\"\n",
    ")\n",
    "\n",
    "# Enable CORS (for local testing and GitHub Pages deployment)\n",
    "app.add_middleware(\n",
    "    CORSMiddleware,\n",
    "    allow_origins=[\n",
    "        \"http://localhost:8000\",              # Local testing\n",
    "        \"http://127.0.0.1:8000\",              # Also valid local reference\n",
    "        \"https://chrwittm.github.io\",         # GitHub Pages deployment\n",
    "    ],\n",
    "    allow_credentials=True,\n",
    "    allow_methods=[\"*\"],\n",
    "    allow_headers=[\"*\"],\n",
    ")\n",
    "\n",
    "# Define Pydantic model for POST request\n",
    "class NameRequest(BaseModel):\n",
    "    name: str\n",
    "\n",
    "# Pydantic model for response (shared across GET and POST)\n",
    "class GreetingResponse(BaseModel):\n",
    "    message: str\n",
    "\n",
    "# GET endpoint using query parameter\n",
    "@app.get(\"/greet\", response_model=GreetingResponse, summary=\"Greet via query parameter\")\n",
    "def greet_get(name: str = Query(default=\"World\", description=\"The name of the person to greet.\")):\n",
    "    \"\"\"\n",
    "    Returns a greeting based on the query parameter 'name'.\n",
    "    \"\"\"\n",
    "    return {\"message\": f\"Hello {name}\"}\n",
    "\n",
    "# POST endpoint using JSON body\n",
    "@app.post(\"/greet\", response_model=GreetingResponse, summary=\"Greet via JSON payload\")\n",
    "def greet_post(request: NameRequest):\n",
    "    \"\"\"\n",
    "    Returns a greeting based on the JSON body with a 'name' field.\n",
    "    \"\"\"\n",
    "    return {\"message\": f\"Hello {request.name}\"}\n",
    "\n",
    "# Run the app locally in the notebook\n",
    "uvicorn.run(app, host=\"127.0.0.1\", port=8000)"
   ]
  },
  {
   "cell_type": "markdown",
   "id": "f9420781",
   "metadata": {},
   "source": [
    "## Conclusion\n",
    "\n",
    "In this post, we’ve explored how to build a simple yet well-structured API using FastAPI. We started with a lightweight GET endpoint using query parameters and then moved on to a more robust POST endpoint that accepts JSON payloads. Along the way, we learned how FastAPI automatically generates interactive documentation using the OpenAPI standard. Additionally, we explored how we can enrich the documentation through type annotations, docstrings, and metadata. Even though our greeting service is simple, the patterns we’ve used scale well to real-world applications.\n",
    "\n",
    "In follow-up posts, available in two versions ([using Render for educational purposes](fast-api-greeting-deployment-render.ipynb) or [using SAP BTP for enterprise scale](fast-api-greeting-deployment-btp.ipynb)), we’ll look at how to deploy this service locally or in the cloud."
   ]
  },
  {
   "cell_type": "markdown",
   "id": "c6211a74",
   "metadata": {},
   "source": []
  }
 ],
 "metadata": {
  "kernelspec": {
   "display_name": "base",
   "language": "python",
   "name": "python3"
  },
  "language_info": {
   "codemirror_mode": {
    "name": "ipython",
    "version": 3
   },
   "file_extension": ".py",
   "mimetype": "text/x-python",
   "name": "python",
   "nbconvert_exporter": "python",
   "pygments_lexer": "ipython3",
   "version": "3.10.12"
  }
 },
 "nbformat": 4,
 "nbformat_minor": 5
}
