{
 "cells": [
  {
   "cell_type": "raw",
   "metadata": {
    "vscode": {
     "languageId": "raw"
    }
   },
   "source": [
    "---\n",
    "title: \"OmniChat - How to chat with any LLM\"\n",
    "author: \"Christian Wittmann\"\n",
    "date: \"2024-11-30\"\n",
    "categories: [chat, llm, python, injection, openai, llama, anthropic, x.ai, grok, groq]\n",
    "image: \"omnichat.png\"\n",
    "---"
   ]
  },
  {
   "cell_type": "markdown",
   "metadata": {
    "vscode": {
     "languageId": "javascript"
    }
   },
   "source": [
    "So far, I’ve worked with large language models (LLMs) from OpenAI and Meta (the LLaMA series) in separate implementations. I noticed that the code across these implementations was very similar, with only minor variations for provider-specific details. This realization inspired me to harmonize the codebase into a unified, modular chat client with the current working title \"OmniChatClient\". The name \"Omni\" reflects two key aspects of its design: It seamlessly integrates with several LLM providers, and it supports multimodal inputs (text and vision so far).\n",
    "\n",
    "In this blog post, I’ll walk you through the steps I took to create the OmniChatClient. The current version works with OpenAI, the LLaMA series (via Groq), Anthropic’s Claude, and X.AI's Grok, using both the SDKs from OpenAI and Anthropic. By the end, you’ll see how OmniChatClient’s code structure enables flexibility, maintainability, and scalability. I’ll demonstrate how I implemented support for both text and vision inputs. I will save additional features like function calling or adding additional vendor support for later posts.\n",
    "\n",
    "This blog post focuses on the refactoring process that transformed my earlier implementations into OmniChatClient. If you’re interested in the inner mechanics of the chat client and the chat messages, please refer to my previous blog posts like [Building Chat for Jupyter Notebooks from Scratch](https://chrwittm.github.io/posts/2024-02-23-chat-from-scratch/) or [Building the Apple Calculator in a Jupyter Notebook](https://chrwittm.github.io/posts/2024-08-02-llm-calculator2-vision/).\n",
    "\n",
    "A final note before we start: As usual, if you prefer the interactive notebook version of this blog post, please use the [this version on GitHub](https://github.com/chrwittm/lm-hackers/blob/main/60-omni-chat/index.ipynb).\n"
   ]
  },
  {
   "cell_type": "markdown",
   "metadata": {},
   "source": [
    "## Architecture\n",
    "\n",
    "Before diving into the code, let’s explore the challenge and the approach I took to solve it. At first glance, the APIs of various LLM providers seem very similar: You specify a model name, send `user`-messages, and receive `assistant`-messages, all wrapped in a JSON schema. However, subtle differences emerge on closer inspection. For example:\n",
    "\n",
    "- OpenAI expects the system prompt to be included in the chat messages, whereas Anthropic requires it to be passed as a separate parameter.\n",
    "- The maximum token limit (`max_tokens`) is mandatory in Anthropic’s API, but optional for OpenAI and other providers I’ve worked with so far.\n",
    "\n",
    "These differences become even more pronounced when going beyond simple text-based chat. For instance:\n",
    "\n",
    "- OpenAI and Anthropic use different formats for passing images into the chat.\n",
    "- Llama 3.2 models only support one image at a time, while OpenAI and Anthropic can handle multiple images.\n",
    "\n",
    "Despite these variations, the overarching process flow remains consistent when viewed at a higher level.\n",
    "\n",
    "To address these challenges, I decided to decouple provider-specific details from the generic chat client logic. This is achieved through \"dependency injection\" (for a nice video intro I can recommend [Dependency Injection, The Best Pattern](https://www.youtube.com/watch?v=J1f5b4vcxCQ) from [CodeAesthetic](https://www.youtube.com/@CodeAesthetic)), where an LLM-specific provider class is injected into the chat client. For message management, I chose an inheritance structure, with a base `ChatMessages` class handling common functionality and provider-specific subclasses extending it to support provider-specific message formatting requirements."
   ]
  },
  {
   "cell_type": "markdown",
   "metadata": {},
   "source": [
    "### Injecting Provider-Specific Class into Chat Client\n",
    "\n",
    "The `ChatClient` is a provider-agnostic class responsible for managing the conversation flow. It delegates provider-specific functionality, such as authentication and API interactions, to a class implementing the `LLMProviderInterface`. This interface defines the contract for provider-specific behavior, ensuring consistent integration regardless of the provider.\n",
    "\n",
    "To maximize reusability, shared logic is abstracted into the `BaseLLMProvider`, which implements `LLMProviderInterface`. Provider-specific classes, such as `OpenAIProvider` and `AnthropicProvider`, extend `BaseLLMProvider` to handle unique API requirements.\n",
    "\n",
    "Upon instantiating the `ChatClient`, you inject the desired provider class, enabling the client to remain decoupled from provider-specific details while leveraging the functionality defined by the provider.\n",
    "\n",
    "The diagram below illustrates the architecture I implemented. For readability, it contains only 2 providers: OpenAI and Anthropic. (You can find a more detailed version later in this post.)"
   ]
  },
  {
   "cell_type": "markdown",
   "metadata": {},
   "source": [
    "```{mermaid}\n",
    "flowchart BT\n",
    "    \n",
    "    LLMProviderInterface -->|Injects| ChatClient \n",
    "\n",
    "    subgraph Injection[\"Dependency Injection\"]\n",
    "        direction BT\n",
    "    \n",
    "        BaseLLMProvider -->|Implements| LLMProviderInterface\n",
    "\n",
    "        subgraph Inheritance[\"Inheritance Hierarchy\"]\n",
    "            direction BT\n",
    "            OpenAIProvider -->|Extends| BaseLLMProvider\n",
    "            AnthropicProvider -->|Extends| BaseLLMProvider\n",
    "            style Inheritance fill:#D0E6F5\n",
    "        end\n",
    "\n",
    "    end   \n",
    "```"
   ]
  },
  {
   "cell_type": "markdown",
   "metadata": {},
   "source": [
    "### ChatMessages with Provider-Specific Classes\n",
    "\n",
    "The `LLMProviderInterface` includes a method called `chat_messages_factory`, which is responsible for creating an instance of the appropriate `ChatMessages` class. These classes follow an inheritance hierarchy to handle both common functionality and provider-specific message formatting.\n",
    "\n",
    "The base `ChatMessages` class provides shared logic for managing conversation history and appending messages in a generic format. Provider-specific subclasses, such as `OpenAIChatMessages` and `AnthropicChatMessages`, extend this base class to handle unique requirements, such as formatting multimodal inputs (e.g., images).\n",
    "\n",
    "This design allows the `ChatClient` to remain agnostic of provider-specific message handling, while the injected provider determines which `ChatMessages` subclass to use.\n",
    "\n",
    "The diagram below illustrates the inheritance hierarchy of `ChatMessages` (again, it is limited to OpenAI and Anthropic for readability):"
   ]
  },
  {
   "cell_type": "markdown",
   "metadata": {},
   "source": [
    "```{mermaid}\n",
    "flowchart BT\n",
    "    OpenChatMessages -->|Extends| ChatMessages\n",
    "    AnthropicChatMessages -->|Extends| ChatMessages\n",
    "```"
   ]
  },
  {
   "cell_type": "markdown",
   "metadata": {},
   "source": [
    "### The full architecture\n",
    "\n",
    "Now that we’ve discussed the individual components, let’s put everything together to see the big picture. The diagram below illustrates how the key classes interact to create a flexible, multi-provider chat system.\n",
    "\n",
    "If this looks overwhelming at first, don’t worry! We’ll construct this step-by-step throughout the blog post. You can always revisit this diagram later once you’ve gone through the detailed explanations."
   ]
  },
  {
   "cell_type": "markdown",
   "metadata": {
    "vscode": {
     "languageId": "raw"
    }
   },
   "source": [
    "```{mermaid}\n",
    "classDiagram\n",
    "    %% ChatClient and Provider Interface\n",
    "    class ChatClient {\n",
    "        Responsible for managing the conversation with LLM\n",
    "        - _provider: LLMProviderInterface\n",
    "        - _chat_messages: ChatMessages\n",
    "        +__init__(provider: LLMProviderInterface)\n",
    "        +prompt_model(prompt: str, base64_images: Optional[List[str]])\n",
    "    }\n",
    "\n",
    "    class LLMProviderInterface {\n",
    "        Defines provider-specific implementation points\n",
    "        +__init__(model_name: str, **kwargs)\n",
    "        +chat_messages_factory() ChatMessages\n",
    "        +_get_model_response(chat_messages: ChatMessages)\n",
    "    }\n",
    "\n",
    "    class ChatMessages {\n",
    "        Manages the conversation history and message structure\n",
    "        - _messages: List[Dict]\n",
    "        +append_user_message(content: str, base64_images: Optional[List[str]])\n",
    "        +append_assistant_message(content: str)\n",
    "    }\n",
    "\n",
    "    %% Relationships\n",
    "    ChatClient ..> LLMProviderInterface : Dependency Injection\n",
    "    LLMProviderInterface o-- ChatMessages : Factory Creates\n",
    "```"
   ]
  },
  {
   "cell_type": "markdown",
   "metadata": {},
   "source": [
    "## Creating the text-based OmniChatClient\n",
    "\n",
    "Let’s start simple by implementing a text-only version of the OmniChatClient. This will lay the foundation for adding more advanced functionality like vision support in later iterations."
   ]
  },
  {
   "cell_type": "code",
   "execution_count": 26,
   "metadata": {},
   "outputs": [
    {
     "data": {
      "text/plain": [
       "True"
      ]
     },
     "execution_count": 26,
     "metadata": {},
     "output_type": "execute_result"
    }
   ],
   "source": [
    "#| code-fold: true\n",
    "\n",
    "from dotenv import load_dotenv\n",
    "import os\n",
    "\n",
    "load_dotenv()"
   ]
  },
  {
   "cell_type": "markdown",
   "metadata": {},
   "source": [
    "### ChatMessages\n",
    "\n",
    "First, we need a class to manage the conversation history and structure messages. Below is a simplified version of the ChatMessages class, similar to what I introduced in [Building Chat for Jupyter Notebooks from Scratch](https://chrwittm.github.io/posts/2024-02-23-chat-from-scratch/). Provider-specific classes will extend this base class only when needed."
   ]
  },
  {
   "cell_type": "code",
   "execution_count": 27,
   "metadata": {},
   "outputs": [],
   "source": [
    "from IPython.display import display, Markdown\n",
    "\n",
    "class ChatMessages:\n",
    "\n",
    "    def __init__(self):\n",
    "        \"\"\"Initializes the Chat.\"\"\"\n",
    "        self._messages = []\n",
    "\n",
    "    def _append_message(self, role, content):\n",
    "        \"\"\"Appends a message with specified role and content to messages list.\"\"\"\n",
    "        self._messages.append({\"role\": role, \"content\": content})\n",
    "\n",
    "    def append_system_message(self, content):\n",
    "        \"\"\"Appends a system message with specified content to messages list.\"\"\"\n",
    "        if content:\n",
    "            # No empty system message\n",
    "            self._append_message(\"system\", content)\n",
    "\n",
    "    def append_user_message(self, content=None, base64_images=None):\n",
    "        \"\"\"Appends a user message with specified content\"\"\"\n",
    "        self._append_message(\"user\", content)\n",
    "\n",
    "    def append_assistant_message(self, content):\n",
    "        \"\"\"Appends an assistant message with specified content.\"\"\"\n",
    "        self._append_message(\"assistant\", content)\n",
    "\n",
    "    def get_messages(self):\n",
    "        \"\"\"Returns a shallow copy of the messages list.\"\"\"\n",
    "        return self._messages[:]\n",
    "    \n",
    "    def get_debug_view(self):\n",
    "        \"\"\"Returns the debug view of the chat messages formatted as Markdown.\"\"\"\n",
    "        debug_view = []\n",
    "        for message in self._messages:\n",
    "            role = message.get('role')\n",
    "            content = message.get('content', '')\n",
    "            debug_view.append(f\"**{role}**: {content}\\n\")\n",
    "\n",
    "        return Markdown('\\n'.join(debug_view))"
   ]
  },
  {
   "cell_type": "markdown",
   "metadata": {},
   "source": [
    "### LLMProviderInterface\n",
    "\n",
    "Next, we define the LLMProviderInterface, which serves as a contract for all provider-specific classes. These classes will handle authentication, API interactions, and any provider-specific logic."
   ]
  },
  {
   "cell_type": "code",
   "execution_count": 28,
   "metadata": {},
   "outputs": [],
   "source": [
    "from typing import Optional\n",
    "\n",
    "class LLMProviderInterface:\n",
    "    \n",
    "    def initialize_client(self) -> None:\n",
    "        \"\"\"\n",
    "        Abstract method for initializing the model prover client including authentication.\n",
    "        This method is called from the provider's constructor.\n",
    "        \"\"\"\n",
    "        raise NotImplementedError()\n",
    "    \n",
    "    def initialize_system_prompt(self, system_prompt):\n",
    "        \"\"\"\n",
    "        Abstract method for initializing the system prompt.\n",
    "\n",
    "        :param system_prompt: The system prompt for the ChatClient.\n",
    "        \"\"\"\n",
    "        raise NotImplementedError()\n",
    "    \n",
    "    def get_model_response(self, chat_messages: ChatMessages):\n",
    "        \"\"\"\n",
    "        Abstract method for fetching the model response.\n",
    "\n",
    "        :param chat_messages: ChatMessages object containing the conversation history.\n",
    "        \"\"\"\n",
    "        raise NotImplementedError()\n",
    "    \n",
    "    def chat_messages_factory(self) -> ChatMessages:\n",
    "        \"\"\"Abstract factory method to create the appropriate ChatMessages class.\"\"\"\n",
    "        raise NotImplementedError()"
   ]
  },
  {
   "cell_type": "markdown",
   "metadata": {},
   "source": [
    "### BaseLLMProvider\n",
    "\n",
    "The `BaseLLMProvider` implements shared functionality like client initialization and serves as the foundation for provider-specific classes."
   ]
  },
  {
   "cell_type": "code",
   "execution_count": 29,
   "metadata": {},
   "outputs": [],
   "source": [
    "class BaseLLMProvider(LLMProviderInterface):\n",
    "    \n",
    "    def __init__(\n",
    "        self,\n",
    "        model_name: str,\n",
    "        system_prompt: Optional[str] = None,\n",
    "        max_tokens: Optional[int] = None,\n",
    "        temperature: Optional[float] = 0.0,\n",
    "    ):\n",
    "        self.model_name = model_name\n",
    "        self._max_tokens = max_tokens\n",
    "        self._temperature = temperature\n",
    "        self.initialize_system_prompt(system_prompt)\n",
    "        self.initialize_client()\n",
    "\n",
    "    def initialize_system_prompt(self, system_prompt = None):\n",
    "        self._system_prompt = system_prompt\n",
    " \n",
    "    def initialize_client(self):\n",
    "        raise NotImplementedError()\n",
    "    \n",
    "    def get_model_response(self, chat_messages, tools=None):\n",
    "        raise NotImplementedError()\n",
    "\n",
    "    def chat_messages_factory(self):\n",
    "        return ChatMessages()"
   ]
  },
  {
   "cell_type": "markdown",
   "metadata": {},
   "source": [
    "### ChatClient\n",
    "\n",
    "Finally, the `ChatClient` class orchestrates the conversation flow. Notice how provider-specific logic is delegated to the injected provider, ensuring the client remains provider-agnostic."
   ]
  },
  {
   "cell_type": "code",
   "execution_count": 30,
   "metadata": {},
   "outputs": [],
   "source": [
    "from IPython.display import Markdown\n",
    "\n",
    "class ChatClient:\n",
    "\n",
    "    def __init__(self, provider: LLMProviderInterface):\n",
    "        \"\"\"Initializes the Chat with the system message.\"\"\"\n",
    "        self._provider = provider\n",
    "        self._chat_messages = provider.chat_messages_factory()\n",
    "\n",
    "    def _get_model_response(self):\n",
    "        \"\"\"Delegates response fetching to the LLM-provider class.\"\"\"\n",
    "        return self._provider.get_model_response(\n",
    "            chat_messages=self._chat_messages,\n",
    "        )\n",
    "    \n",
    "    def prompt_model(self, prompt=None, base64_images=None):\n",
    "        \"\"\"This method handles the user prompt, delegates interaction with the model through the provider, \n",
    "        and returns the model response.\"\"\"\n",
    "        self._chat_messages.append_user_message(prompt)\n",
    "        content = self._get_model_response()\n",
    "        self._chat_messages.append_assistant_message(content)\n",
    "        return Markdown(content)"
   ]
  },
  {
   "cell_type": "markdown",
   "metadata": {},
   "source": [
    "With this foundation, we can now implement provider-specific classes (e.g., for OpenAI and Anthropic). These classes will inherit from BaseLLMProvider and implement methods like `initialize_client` and `get_model_response` to handle provider-specific details."
   ]
  },
  {
   "cell_type": "markdown",
   "metadata": {},
   "source": [
    "## Provider Implementations\n",
    "\n",
    "### OpenAI Implementation\n",
    "\n",
    "The [OpenAI](https://platform.openai.com/docs/api-reference/introduction) provider is implemented using the [OpenAI SDK](https://github.com/openai/openai-python). This provider class handles client initialization, constructs the necessary parameters for API calls, and manages the chat message structure.\n",
    "\n",
    "Noteworthy points:\n",
    "\n",
    "- The system prompt is included directly in the chat messages. This behavior is specific to OpenAI and differs from, for example, Anthropic’s implementation.\n",
    "- Optional parameters like `max_tokens` and `temperature` are conditionally added to the API request, ensuring flexibility without hardcoding defaults."
   ]
  },
  {
   "cell_type": "code",
   "execution_count": 31,
   "metadata": {},
   "outputs": [],
   "source": [
    "from openai import OpenAI\n",
    "\n",
    "class OpenAIProvider(BaseLLMProvider):\n",
    "\n",
    "    def initialize_client(self):\n",
    "        api_key = os.getenv(\"OPENAI_API_KEY\")\n",
    "        if not api_key:\n",
    "            raise ValueError(\"OPENAI_API_KEY is not set in the environment variables.\")\n",
    "        \n",
    "        self.client = OpenAI()\n",
    "\n",
    "    def get_model_response(self, chat_messages):\n",
    "        try:\n",
    "            \n",
    "            # Mandatory parameters\n",
    "            params = {\n",
    "                \"model\": self.model_name,\n",
    "                \"messages\": chat_messages.get_messages()\n",
    "            }\n",
    "\n",
    "            # Optional parameters\n",
    "            if self._max_tokens is not None:\n",
    "                params[\"max_tokens\"] = self._max_tokens\n",
    "            if self._temperature is not None:\n",
    "                params[\"temperature\"] = self._temperature\n",
    "                \n",
    "            response = self.client.chat.completions.create(**params)\n",
    "\n",
    "            try:\n",
    "                content = response.choices[0].message.content\n",
    "            except (AttributeError, IndexError) as e:\n",
    "                raise RuntimeError(f\"Malformed response structure: {str(e)}. Response: {response}\")\n",
    "            return content\n",
    "        except Exception as e:\n",
    "            raise RuntimeError(f\"Failed to fetch model response. Params: {params}. Error: {str(e)}\")\n",
    "    \n",
    "    def chat_messages_factory(self):\n",
    "        \"\"\"Returns the standard ChatMessages implementation for OpenAI.\"\"\"\n",
    "        chat_messages = ChatMessages()\n",
    "        chat_messages.append_system_message(self._system_prompt)\n",
    "        return chat_messages"
   ]
  },
  {
   "cell_type": "markdown",
   "metadata": {},
   "source": [
    "Let’s test the OpenAI provider with a simple prompt:"
   ]
  },
  {
   "cell_type": "code",
   "execution_count": 32,
   "metadata": {},
   "outputs": [
    {
     "data": {
      "text/markdown": [
       "Hello, I'm an AI language model created by OpenAI, here to assist you with information and answer your questions."
      ],
      "text/plain": [
       "<IPython.core.display.Markdown object>"
      ]
     },
     "execution_count": 32,
     "metadata": {},
     "output_type": "execute_result"
    }
   ],
   "source": [
    "model_name = \"gpt-4o\"\n",
    "system_prompt = \"Answer in a very concise and accurate way\"\n",
    "provider = OpenAIProvider(model_name=model_name, system_prompt=system_prompt)\n",
    "\n",
    "chat_client = ChatClient(provider=provider)\n",
    "chat_client.prompt_model(\"Hello, who are you?\")"
   ]
  },
  {
   "cell_type": "markdown",
   "metadata": {},
   "source": [
    "### Anthropic implementation\n",
    "\n",
    "The [Anthropic](https://docs.anthropic.com/en/api/getting-started) provider is implemented using the [Anthropic SDK](https://github.com/anthropics/anthropic-sdk-python). This class manages client initialization, validates required parameters, and adjusts the message structure for Anthropic's API.\n",
    "\n",
    "Noteworthy points:\n",
    "\n",
    "- `max_tokens` is a required field for calling Anthropic’s Claude model. This is validated during provider initialization to avoid runtime errors.\n",
    "- Unlike the OpenAI implementation, the system prompt is passed directly to the `client` as a separate parameter, instead of embedding it in the chat messages."
   ]
  },
  {
   "cell_type": "code",
   "execution_count": 33,
   "metadata": {},
   "outputs": [],
   "source": [
    "from anthropic import Anthropic\n",
    "\n",
    "class AnthropicProvider(BaseLLMProvider):\n",
    "\n",
    "    def __init__(self, *args, **kwargs):\n",
    "        max_tokens = kwargs.get(\"max_tokens\")\n",
    "        if max_tokens is None:\n",
    "            raise ValueError(\"AnthropicProvider requires 'max_tokens' to be specified.\")\n",
    "        super().__init__(*args, **kwargs)  # Pass all arguments to the base constructor\n",
    "\n",
    "    def initialize_system_prompt(self, system_prompt = None):\n",
    "        super().initialize_system_prompt(system_prompt)\n",
    "        if self._system_prompt == None:\n",
    "            self._system_prompt = \"\"\n",
    "\n",
    "    def initialize_client(self):\n",
    "        api_key = os.getenv(\"ANTHROPIC_API_KEY\")\n",
    "        if not api_key:\n",
    "            raise ValueError(\"ANTHROPIC_API_KEY is not set in the environment variables.\")\n",
    "\n",
    "        self.client = Anthropic()\n",
    "\n",
    "    def get_model_response(self, chat_messages):\n",
    "        try:\n",
    "            \n",
    "            # Mandatory parameters\n",
    "            params = {\n",
    "                \"model\": self.model_name,\n",
    "                \"system\": self._system_prompt,\n",
    "                \"messages\": chat_messages.get_messages(),\n",
    "                \"max_tokens\": self._max_tokens\n",
    "            }\n",
    "\n",
    "            # Optional parameters\n",
    "            if self._temperature is not None:\n",
    "                params[\"temperature\"] = self._temperature\n",
    "\n",
    "            response = self.client.messages.create(**params)\n",
    "\n",
    "            try:\n",
    "                content = \"\"\n",
    "                for content_line in response.content:\n",
    "                    if content_line.type == \"text\":\n",
    "                        content = content_line.text  \n",
    "                return content\n",
    "            except (AttributeError, IndexError) as e:\n",
    "                raise RuntimeError(f\"Malformed response structure: {str(e)}. Response: {response}\")\n",
    "        except Exception as e:\n",
    "            raise RuntimeError(f\"Failed to fetch model response. Params: {params}. Error: {str(e)}\")"
   ]
  },
  {
   "cell_type": "markdown",
   "metadata": {},
   "source": [
    "Again, let’s run a simple test. Notice how the code remains compact and modular: Only the model name and provider instantiation change. The OmniChatClient abstracts away the different APIs and message structures through the injected provider."
   ]
  },
  {
   "cell_type": "code",
   "execution_count": 34,
   "metadata": {},
   "outputs": [
    {
     "data": {
      "text/markdown": [
       "I'm Claude, an AI assistant created by Anthropic. I aim to be direct and truthful in our conversations."
      ],
      "text/plain": [
       "<IPython.core.display.Markdown object>"
      ]
     },
     "execution_count": 34,
     "metadata": {},
     "output_type": "execute_result"
    }
   ],
   "source": [
    "model_name = \"claude-3-5-sonnet-20241022\"\n",
    "provider = AnthropicProvider(model_name=model_name, system_prompt=system_prompt, max_tokens=128)\n",
    "\n",
    "chat_client = ChatClient(provider=provider)\n",
    "chat_client.prompt_model(\"Hello, who are you?\")"
   ]
  },
  {
   "cell_type": "markdown",
   "metadata": {},
   "source": [
    "### X.ai Implementation\n",
    "\n",
    "This is where the effort we’ve invested in building a modular architecture starts to pay off. With the implementation for [X.ai](https://docs.x.ai/docs), we can reuse much of the code we’ve already written for OpenAI and Anthropic, saving time and effort.\n",
    "\n",
    "To interact with Grok, X.ai allows you to use [either the OpenAI or Anthropic SDKs](https://docs.x.ai/api/integrations). Since we’ve already implemented both, all we need to do is update the endpoint and authorization details.\n",
    "\n",
    "#### Using the OpenAI SDK for X.ai\n",
    "\n",
    "Here’s all the code needed to enable Grok support via the OpenAI SDK:"
   ]
  },
  {
   "cell_type": "code",
   "execution_count": 35,
   "metadata": {},
   "outputs": [],
   "source": [
    "from openai import OpenAI\n",
    "\n",
    "class XAIProviderOpenAI(OpenAIProvider):\n",
    "    \n",
    "    def initialize_client(self):\n",
    "        api_key = os.getenv(\"XAI_API_KEY\")\n",
    "        if not api_key:\n",
    "            raise ValueError(\"XAI_API_KEY is not set in the environment variables.\")\n",
    "\n",
    "        base_url = os.getenv(\"XAI_BASE_URL\", \"https://api.x.ai/v1\")\n",
    "\n",
    "        self.client = OpenAI(\n",
    "            api_key=api_key,    \n",
    "            base_url=base_url,\n",
    "        )"
   ]
  },
  {
   "cell_type": "markdown",
   "metadata": {},
   "source": [
    "Here is a quick test. The previous prompt returned a pretty shy answer, so I updated it to a more grok-like version."
   ]
  },
  {
   "cell_type": "code",
   "execution_count": 36,
   "metadata": {},
   "outputs": [
    {
     "data": {
      "text/markdown": [
       "I am Grok, an AI developed by xAI, here to provide helpful and truthful answers."
      ],
      "text/plain": [
       "<IPython.core.display.Markdown object>"
      ]
     },
     "execution_count": 36,
     "metadata": {},
     "output_type": "execute_result"
    }
   ],
   "source": [
    "model_name = \"grok-beta\"\n",
    "provider = XAIProviderOpenAI(model_name=model_name, system_prompt=system_prompt)\n",
    "\n",
    "chat_client = ChatClient(provider=provider)\n",
    "chat_client.prompt_model(\"State your name and identity!\")"
   ]
  },
  {
   "cell_type": "markdown",
   "metadata": {},
   "source": [
    "#### Using the Anthropic SDK for X.ai\n",
    "\n",
    "Similarly, we can use the Anthropic SDK to interact with Grok. Here’s the implementation:"
   ]
  },
  {
   "cell_type": "code",
   "execution_count": 37,
   "metadata": {},
   "outputs": [],
   "source": [
    "from anthropic import Anthropic\n",
    "\n",
    "class XAIProviderAnthropic(AnthropicProvider):\n",
    "\n",
    "    def initialize_client(self):\n",
    "        api_key = os.getenv(\"XAI_API_KEY\")\n",
    "        if not api_key:\n",
    "            raise ValueError(\"XAI_API_KEY is not set in the environment variables.\")\n",
    "\n",
    "        base_url = \"https://api.x.ai\" \n",
    "\n",
    "        self.client = Anthropic(\n",
    "            api_key=api_key,    \n",
    "            base_url=base_url,\n",
    "        )"
   ]
  },
  {
   "cell_type": "code",
   "execution_count": 38,
   "metadata": {},
   "outputs": [
    {
     "data": {
      "text/markdown": [
       "I am Grok, an AI developed by xAI, here to provide helpful and truthful answers."
      ],
      "text/plain": [
       "<IPython.core.display.Markdown object>"
      ]
     },
     "execution_count": 38,
     "metadata": {},
     "output_type": "execute_result"
    }
   ],
   "source": [
    "model_name = \"grok-beta\"\n",
    "provider = XAIProviderAnthropic(model_name=model_name, system_prompt=system_prompt, max_tokens=128)\n",
    "\n",
    "chat_client = ChatClient(provider=provider)\n",
    "chat_client.prompt_model(\"State your name and identity!\")"
   ]
  },
  {
   "cell_type": "markdown",
   "metadata": {},
   "source": [
    "### Llama Implementation\n",
    "\n",
    "To access Llama 3.2, I chose [Groq](https://groq.com/) as the provider. Groq offers a free tier and provides access to Llama 3.2 with vision capabilities, a practical workaround given that downloading Llama 3 in the EU is restricted under its licensing terms.\n",
    "\n",
    "Here’s the implementation for the Llama 3 provider class base on Groq:"
   ]
  },
  {
   "cell_type": "code",
   "execution_count": 39,
   "metadata": {},
   "outputs": [],
   "source": [
    "from groq import Groq\n",
    "\n",
    "class GroqProviderLlama3(BaseLLMProvider):\n",
    "\n",
    "    def initialize_client(self):\n",
    "        api_key = os.getenv(\"GROQ_API_KEY\")\n",
    "        if not api_key:\n",
    "            raise ValueError(\"GROQ_API_KEY is not set in the environment variables.\")\n",
    "        \n",
    "        self.client = Groq(\n",
    "            api_key=os.environ.get(\"GROQ_API_KEY\"),\n",
    "        )\n",
    "\n",
    "    def get_model_response(self, chat_messages):\n",
    "        try:\n",
    "            \n",
    "            # Mandatory parameters\n",
    "            params = {\n",
    "                \"model\": self.model_name,\n",
    "                \"messages\": chat_messages.get_messages()\n",
    "            }\n",
    "\n",
    "            # Optional parameters\n",
    "            if self._max_tokens is not None:\n",
    "                params[\"max_tokens\"] = self._max_tokens\n",
    "            if self._temperature is not None:\n",
    "                params[\"temperature\"] = self._temperature\n",
    "                \n",
    "            response = self.client.chat.completions.create(**params)\n",
    "\n",
    "            try:\n",
    "                content = response.choices[0].message.content\n",
    "            except (AttributeError, IndexError) as e:\n",
    "                raise RuntimeError(f\"Malformed response structure: {str(e)}. Response: {response}\")\n",
    "            return content\n",
    "        except Exception as e:\n",
    "            raise RuntimeError(f\"Failed to fetch model response. Params: {params}. Error: {str(e)}\")\n"
   ]
  },
  {
   "cell_type": "code",
   "execution_count": 40,
   "metadata": {},
   "outputs": [
    {
     "data": {
      "text/markdown": [
       "I'm an artificial intelligence model known as Llama. Llama stands for \"Large Language Model Meta AI.\""
      ],
      "text/plain": [
       "<IPython.core.display.Markdown object>"
      ]
     },
     "execution_count": 40,
     "metadata": {},
     "output_type": "execute_result"
    }
   ],
   "source": [
    "model_name = \"llama-3.2-90b-vision-preview\"\n",
    "provider = GroqProviderLlama3(model_name=model_name, system_prompt=system_prompt)\n",
    "\n",
    "chat_client = ChatClient(provider=provider)\n",
    "chat_client.prompt_model(\"Hello, who are you?\")"
   ]
  },
  {
   "cell_type": "markdown",
   "metadata": {},
   "source": [
    "## What we have done so far\n",
    "\n",
    "We have built a modular and extensible architecture for the OmniChatClient. At its core is the `BaseLLMProvider`, which implements the shared functionality defined by the `LLMProviderInterface`. Each provider-specific class extends the `BaseLLMProvider` to handle unique API requirements and interactions.\n",
    "\n",
    "The inheritance hierarchy below illustrates how different providers OpenAI, Anthropic, Groq, and X.AI—are integrated:\n",
    "- `OpenAIProvider`, `AnthropicProvider`, and `GroqProviderLlama3` extend `BaseLLMProvider`.\n",
    "- X.AI reuses the existing OpenAI and Anthropic implementations by inheriting from their respective providers."
   ]
  },
  {
   "cell_type": "markdown",
   "metadata": {},
   "source": [
    "```{mermaid}\n",
    "flowchart BT\n",
    "    \n",
    "    BaseLLMProvider -->|Implements| LLMProviderInterface\n",
    "\n",
    "    subgraph Inheritance[\"Inheritance Hierarchy\"]\n",
    "        direction BT\n",
    "        OpenAIProvider -->|Extends| BaseLLMProvider\n",
    "        AnthropicProvider -->|Extends| BaseLLMProvider\n",
    "        GroqProviderLlama3 -->|Extends| BaseLLMProvider\n",
    "        XAIProviderOpenAI -->|Inherits from| OpenAIProvider\n",
    "        XAIAnthropicProvider -->|Inherits from| AnthropicProvider\n",
    "    end\n",
    "```"
   ]
  },
  {
   "cell_type": "markdown",
   "metadata": {},
   "source": [
    "## Adding Vision Capabilities\n",
    "\n",
    "To add vision capabilities, we first update the `append_user_message` method in the `ChatMessages` class to accept images. Since each provider has a different format for handling images, the actual implementation is done in the provider-specific child classes.\n",
    "\n",
    "To update the method, I use [`@patch`from `fastcore`](https://fastcore.fast.ai/basics.html#patch), which is a nice tool which allows to only add functionality as it is needed in a notebook."
   ]
  },
  {
   "cell_type": "code",
   "execution_count": 41,
   "metadata": {},
   "outputs": [],
   "source": [
    "from fastcore.utils import * #for importing patch\n",
    "\n",
    "@patch\n",
    "def append_user_message(self:ChatMessages, content=None, base64_images=None):\n",
    "    \"\"\"\n",
    "    Appends a user message with specified content\n",
    "    \"\"\"\n",
    "    if base64_images:\n",
    "        raise NotImplementedError(\"Vision is not supported by this model.\")\n",
    "    \n",
    "    if not content:\n",
    "        raise ValueError(\"Content cannot be empty or None.\")\n",
    "\n",
    "    self._append_message(\"user\", content)"
   ]
  },
  {
   "cell_type": "markdown",
   "metadata": {},
   "source": [
    "Consequently, we also need to update the `prompt_model` method of the `ChatClient` to allow for vision-based prompts:"
   ]
  },
  {
   "cell_type": "code",
   "execution_count": 42,
   "metadata": {},
   "outputs": [],
   "source": [
    "@patch\n",
    "def prompt_model(self:ChatClient, prompt=None, base64_images=None):\n",
    "    \"\"\"\n",
    "    Sends a message to the model, including an optional prompt and multiple base64 images.\n",
    "    \n",
    "    :param prompt: The text prompt for the model.\n",
    "    :param base64_images: A list of base64-encoded image strings.\n",
    "    :return: The model's response in Markdown format.\n",
    "    \"\"\"\n",
    "    if base64_images:\n",
    "        # Append user message with multiple images\n",
    "        self._chat_messages.append_user_message(content=prompt, base64_images=base64_images)\n",
    "    elif prompt:\n",
    "        # Append user message with only text\n",
    "        self._chat_messages.append_user_message(content=prompt)\n",
    "\n",
    "    content = self._get_model_response()\n",
    "    self._chat_messages.append_assistant_message(content)\n",
    "    return Markdown(content)"
   ]
  },
  {
   "cell_type": "markdown",
   "metadata": {},
   "source": [
    "Now we can implement the different formats in the vendor-specific chat message classes. Pay attention to the subtle differences in how each provider handles vision inputs."
   ]
  },
  {
   "cell_type": "code",
   "execution_count": 43,
   "metadata": {},
   "outputs": [],
   "source": [
    "class OpenAIChatMessages(ChatMessages):\n",
    "\n",
    "    def append_user_message(self, content=None, base64_images=None):\n",
    "        \"\"\"\n",
    "        Appends a user message with specified content and multiple images to messages list.\n",
    "        As per https://platform.openai.com/docs/guides/vision\n",
    "        \"\"\"\n",
    "        if base64_images:\n",
    "            content_parts = [{\"type\": \"text\", \"text\": content}] if content else []\n",
    "            for base64_image in base64_images:\n",
    "                content_parts.append({\n",
    "                    \"type\": \"image_url\",\n",
    "                    \"image_url\": {\"url\": f\"data:image/png;base64,{base64_image}\"}\n",
    "                })\n",
    "            self._messages.append({\"role\": \"user\", \"content\": content_parts})\n",
    "        elif content:\n",
    "            self._append_message(\"user\", content)\n",
    "        else:\n",
    "            raise ValueError(\"Content cannot be empty or None.\")"
   ]
  },
  {
   "cell_type": "code",
   "execution_count": 44,
   "metadata": {},
   "outputs": [],
   "source": [
    "class AnthropicChatMessages(ChatMessages):\n",
    "\n",
    "    def append_user_message(self, content=None, base64_images=None):\n",
    "        \"\"\"\n",
    "        Appends a user message with specified content and multiple images to messages list.\n",
    "        As per https://docs.anthropic.com/en/api/messages\n",
    "        \"\"\"\n",
    "        if base64_images:\n",
    "            content_parts = [{\"type\": \"text\", \"text\": content}] if content else []\n",
    "            for base64_image in base64_images:\n",
    "                content_parts.append({\n",
    "                    \"type\": \"image\",\n",
    "                    \"source\": {\n",
    "                        \"type\": \"base64\",\n",
    "                        \"media_type\": \"image/png\",\n",
    "                        \"data\": base64_image\n",
    "                    }\n",
    "                })\n",
    "            self._messages.append({\"role\": \"user\", \"content\": content_parts})\n",
    "        elif content:\n",
    "            self._append_message(\"user\", content)\n",
    "        else:\n",
    "            raise ValueError(\"Content cannot be empty or None.\")"
   ]
  },
  {
   "cell_type": "markdown",
   "metadata": {},
   "source": [
    "Finally, we need to update the `chat_messages_factory` method in all provider classes, so that they use the corresponding chat messages implementation."
   ]
  },
  {
   "cell_type": "code",
   "execution_count": 45,
   "metadata": {},
   "outputs": [],
   "source": [
    "@patch\n",
    "def chat_messages_factory(self:OpenAIProvider):\n",
    "    \"\"\"Returns the standard ChatMessages implementation for OpenAI.\"\"\"\n",
    "    chat_messages = OpenAIChatMessages()\n",
    "    chat_messages.append_system_message(self._system_prompt)\n",
    "    return chat_messages\n",
    "\n",
    "@patch\n",
    "def chat_messages_factory(self:AnthropicProvider):\n",
    "    \"\"\"Returns the Anthropic-specific ChatMessages implementation.\"\"\"\n",
    "    return AnthropicChatMessages()\n",
    "\n",
    "@patch\n",
    "def chat_messages_factory(self:GroqProviderLlama3):\n",
    "    \"\"\"OpenAI Format also works for Llama.\"\"\"\n",
    "    return OpenAIChatMessages()\n",
    "\n",
    "#@patch\n",
    "#def chat_messages_factory(self:XAIProviderAnthropic):\n",
    "#    \"\"\"Returns the Base ChatMessages implementation.\"\"\"\n",
    "#    return ChatMessages()\n",
    "\n",
    "#@patch\n",
    "#def chat_messages_factory(self:XAIProviderOpenAI):\n",
    "#    \"\"\"Returns the Base ChatMessages implementation.\"\"\"\n",
    "#    return ChatMessages()"
   ]
  },
  {
   "cell_type": "markdown",
   "metadata": {},
   "source": [
    "### Testing Vision\n",
    "\n",
    "Let’s test the vision capabilities of our implementation using the famous Trolley Problem.\n",
    "\n",
    "#### Preparing the Image\n",
    "\n",
    "First, we encode the image in base64 and have a look:"
   ]
  },
  {
   "cell_type": "code",
   "execution_count": 46,
   "metadata": {},
   "outputs": [],
   "source": [
    "#| code-fold: true\n",
    "\n",
    "import base64\n",
    "from IPython.display import Image, display\n",
    "\n",
    "def encode_image(image_path):\n",
    "  \"\"\"Encodes an image file in base64\"\"\"\n",
    "  with open(image_path, \"rb\") as image_file:\n",
    "    return base64.b64encode(image_file.read()).decode('utf-8')\n",
    "\n",
    "def render_base64_image(base64_string):\n",
    "    \"\"\"Render a Base64-encoded image in a Jupyter Notebook.\"\"\"\n",
    "    display(Image(data=base64.b64decode(base64_string)))"
   ]
  },
  {
   "cell_type": "code",
   "execution_count": 47,
   "metadata": {},
   "outputs": [
    {
     "data": {
      "image/png": "[encoded data removed]",
      "text/plain": [
       "<IPython.core.display.Image object>"
      ]
     },
     "metadata": {},
     "output_type": "display_data"
    }
   ],
   "source": [
    "image_path = \"Trolley_Problem.png\"\n",
    "base64_image = encode_image(image_path)\n",
    "render_base64_image(base64_image)"
   ]
  },
  {
   "cell_type": "markdown",
   "metadata": {},
   "source": [
    "#### Running the Models\n",
    "\n",
    "Now, let’s ask each model to describe the image:"
   ]
  },
  {
   "cell_type": "code",
   "execution_count": 48,
   "metadata": {},
   "outputs": [
    {
     "data": {
      "text/markdown": [
       "The image depicts the classic \"trolley problem,\" a philosophical thought experiment. It shows a trolley on a track heading towards five people. There is a lever that can be pulled to switch the trolley onto another track, where it would hit one person instead. The scenario is used to discuss ethical decision-making and moral dilemmas."
      ],
      "text/plain": [
       "<IPython.core.display.Markdown object>"
      ]
     },
     "execution_count": 48,
     "metadata": {},
     "output_type": "execute_result"
    }
   ],
   "source": [
    "model_name = \"gpt-4o\"\n",
    "provider = OpenAIProvider(model_name=model_name)\n",
    "chat_client = ChatClient(provider=provider)\n",
    "chat_client.prompt_model(\"What is in the image?\", base64_images=[base64_image])"
   ]
  },
  {
   "cell_type": "code",
   "execution_count": 49,
   "metadata": {},
   "outputs": [
    {
     "data": {
      "text/markdown": [
       "This is the classic \"Trolley Problem\" ethical dilemma illustrated in a simple diagram. It shows a trolley/tram on tracks with two possible paths: one track leads to five people, while the other track has one person. There's also a figure shown near a lever that could switch the trolley's direction."
      ],
      "text/plain": [
       "<IPython.core.display.Markdown object>"
      ]
     },
     "execution_count": 49,
     "metadata": {},
     "output_type": "execute_result"
    }
   ],
   "source": [
    "model_name = \"claude-3-5-sonnet-20241022\"\n",
    "provider = AnthropicProvider(model_name=model_name, system_prompt=system_prompt, max_tokens=128)\n",
    "chat_client = ChatClient(provider=provider)\n",
    "chat_client.prompt_model(\"What is in the image?\", base64_images=[base64_image])"
   ]
  },
  {
   "cell_type": "code",
   "execution_count": 50,
   "metadata": {},
   "outputs": [
    {
     "data": {
      "text/markdown": [
       "The image depicts a simplified diagram of a train or tram on tracks with a switch mechanism. There are two tracks: one leading straight ahead and another branching off to the right. \n",
       "\n",
       "- On the left side, there is a train or tram on the left track.\n",
       "- In the middle, there is a person standing near the switch mechanism.\n",
       "- On the right side, there are two groups of people:\n",
       "  - One group is on the straight track ahead.\n",
       "  - Another group is on the track that branches off to the right.\n",
       "\n",
       "This diagram is often used to illustrate the trolley problem, a moral dilemma in ethics where one must decide whether to switch the train to another track to save a group of people at the cost of another individual."
      ],
      "text/plain": [
       "<IPython.core.display.Markdown object>"
      ]
     },
     "execution_count": 50,
     "metadata": {},
     "output_type": "execute_result"
    }
   ],
   "source": [
    "model_name = \"grok-vision-beta\"\n",
    "provider = XAIProviderOpenAI(model_name=model_name)\n",
    "chat_client = ChatClient(provider=provider)\n",
    "chat_client.prompt_model(\"What is in the image?\", base64_images=[base64_image])"
   ]
  },
  {
   "cell_type": "code",
   "execution_count": 51,
   "metadata": {},
   "outputs": [
    {
     "data": {
      "text/markdown": [
       "The image depicts a black-and-white graphic of a train and people. The train is on the left side of the image, with a diamond-shaped object above it. There are several lines extending from the train, each featuring a person icon. The lines vary in length, with some being longer than others. The background of the image is white.\n",
       "\n",
       "**Key Elements:**\n",
       "\n",
       "*   **Train:** A black train with a diamond-shaped object above it.\n",
       "*   **Lines:** Several lines extending from the train, each featuring a person icon.\n",
       "*   **Person Icons:** Small black figures representing people.\n",
       "*   **Background:** White background.\n",
       "\n",
       "**Interpretation:**\n",
       "\n",
       "The image appears to be a simple graphic representation of a train and its passengers. The lines extending from the train may represent the paths or routes taken by the passengers. The person icons could symbolize the individuals traveling on the train. The diamond-shaped object above the train is unclear in its meaning but may represent a signal or a marker. Overall, the image conveys a sense of movement and transportation."
      ],
      "text/plain": [
       "<IPython.core.display.Markdown object>"
      ]
     },
     "execution_count": 51,
     "metadata": {},
     "output_type": "execute_result"
    }
   ],
   "source": [
    "model_name = \"llama-3.2-90b-vision-preview\"\n",
    "provider = GroqProviderLlama3(model_name=model_name)\n",
    "chat_client = ChatClient(provider=provider)\n",
    "chat_client.prompt_model(\"What is in the image?\", base64_images=[base64_image])"
   ]
  },
  {
   "cell_type": "markdown",
   "metadata": {},
   "source": [
    "#### Observations\n",
    "\n",
    "As you can see, it is very easy to benchmarking different models against the same input. In this test, GPT-4o, Claude Sonnet 3.5, and Grok correctly recognized the Trolley Problem. Llama 3.2, however, just gave a generic description of the scene, missing the high-level concept. This demonstrates how the OmniChatClient design allows you to efficiently test and compare multiple models in a unified way."
   ]
  },
  {
   "cell_type": "markdown",
   "metadata": {},
   "source": [
    "## Conclusion\n",
    "\n",
    "Building the OmniChatClient has been an exciting project, creating a unified and extensible interface for working with multiple LLMs. By abstracting provider-specific functionality into modular components, we’ve reduced redundancy and created a scalable framework that can easily adapt to future requirements.\n",
    "\n",
    "Dependency injection ensures that the OmniChatClient remains flexible and decoupled from provider-specific details, which are implemented in dedicated provider classes. Inheritance further reduces redundancies and accelerates the addition of new providers and features. As a result, any application using the OmniChatClient can seamlessly switch between models by simply swapping out the provider objects, no additional code changes are required.\n",
    "\n",
    "While this implementation is already functional and supports both text and vision capabilities, there’s still room to expand. Enabling tool usage and adding support for providers like Google’s Gemini series are in my backlog.\n",
    "\n",
    "On a broader level, I hope this hands-on demonstration of dependency injection and inheritance, applied in a practical example, inspires you to experiment with these patterns to make your code more robust, flexible, and elegant."
   ]
  }
 ],
 "metadata": {
  "kernelspec": {
   "display_name": "base",
   "language": "python",
   "name": "python3"
  },
  "language_info": {
   "codemirror_mode": {
    "name": "ipython",
    "version": 3
   },
   "file_extension": ".py",
   "mimetype": "text/x-python",
   "name": "python",
   "nbconvert_exporter": "python",
   "pygments_lexer": "ipython3",
   "version": "3.10.12"
  }
 },
 "nbformat": 4,
 "nbformat_minor": 2
}
