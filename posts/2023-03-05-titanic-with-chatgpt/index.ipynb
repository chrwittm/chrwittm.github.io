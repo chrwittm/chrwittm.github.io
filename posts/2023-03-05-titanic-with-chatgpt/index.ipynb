{
 "cells": [
  {
   "cell_type": "raw",
   "metadata": {},
   "source": [
    "---\n",
    "title: \"Titanic with ChatGPT\"\n",
    "author: \"Christian Wittmann\"\n",
    "date: \"2023-03-05\"\n",
    "categories: [ml, kaggle, titanic, chargpt, eda]\n",
    "image: \"the_captain_of_the_titanic_talking_to_a_chatbot.png\"\n",
    "---"
   ]
  },
  {
   "attachments": {},
   "cell_type": "markdown",
   "metadata": {},
   "source": [
    "Reworking [Lesson 5](https://forums.fast.ai/t/lesson-5-official-topic/96491), I returned to the [Titanic Competition](https://www.kaggle.com/competitions/titanic) to learn more Fast.AI-concepts. Additionally, I explored how ChatGPT could increase my productivity. "
   ]
  },
  {
   "attachments": {},
   "cell_type": "markdown",
   "metadata": {},
   "source": [
    "As a result I created the following 2 notebooks\n",
    "\n",
    "* **Titanic EDA and 1R with ChatGPT** ([GitHub](https://github.com/chrwittm/FastAI2022/blob/main/lesson05/titanic-eda-and-1r-v1.2.ipynb)/[Kaggle](https://www.kaggle.com/code/christianwittmann/titanic-eda-and-1r-with-chatgpt)): The goal of this notebook is to create a 1R-model ([One Rule](https://datacadamia.com/data_mining/one_rule), also see related [paper](https://link.springer.com/article/10.1023/A:1022631118932)) of the [Titanic Kaggle Competition](https://www.kaggle.com/competitions/titanic) after doing EDA ([Exploratory data analysis](https://en.wikipedia.org/wiki/Exploratory_data_analysis)), supported by ChatGPT.\n",
    "* **Titanic Feature Engineering and Model Creation with ChatGPT** ([GitHub](https://github.com/chrwittm/FastAI2022/blob/main/lesson05/titanic-feature-engineering-fastai-v1.2.ipynb)/[Kaggle](https://www.kaggle.com/code/christianwittmann/titanic-feature-engineering-fast-ai-model-creation)): The goal of this notebook is do some feature engineering on the dataset of the [Titanic Kaggle Competition](https://www.kaggle.com/competitions/titanic) and to later create a Fast.AI-`learner` to submit the result to Kaggle, supported by ChatGPT. \n",
    "\n",
    "In this blog post, I do not was to talk about the Titanic Competition too much, but rather about the co-working experience with ChatGPT and what I learned about how to interact with it. (Prompts will be indicated by the chat emoji 💬).\n",
    "\n",
    "The main findings are that you need to be precise in your prompting, but there is a limit to what you can prompt for. When it comes to interpreting the result, you need to guide the conversation with ChatGPT. While it can save a lot of time, it cannot do all the work for you."
   ]
  },
  {
   "cell_type": "markdown",
   "metadata": {},
   "source": [
    "<style>\n",
    "  figure {\n",
    "    display: block;\n",
    "    margin-left: auto;\n",
    "    margin-right: auto;\n",
    "    text-align: center;\n",
    "  }\n",
    "</style>\n",
    "\n",
    "<figure>\n",
    "    <img src=\"the_captain_of_the_titanic_talking_to_a_chatbot.png\" alt=\"Midjourney: The Captain of the Titanic talking to a Chatbot\" style=\"width:50%;\">\n",
    "    <figcaption>Midjourney: The Captain of the Titanic talking to a Chatbot</figcaption>\n",
    "</figure>"
   ]
  },
  {
   "attachments": {},
   "cell_type": "markdown",
   "metadata": {},
   "source": [
    "## The hottest new programming language is English\n",
    "\n",
    "As [Andrej Karpathy tweeted](https://twitter.com/karpathy/status/1617979122625712128): **_\"The hottest new programming language is English\"_**. Indeed, especially in the EDA-notebook ([GitHub](https://github.com/chrwittm/FastAI2022/blob/main/lesson05/titanic-eda-and-1r-v1.2.ipynb)/[Kaggle](https://www.kaggle.com/code/christianwittmann/titanic-eda-and-1r-with-chatgpt)), I actually used English as a programming language, and ChatGPT was merely translating to python. Additionally, working with ChatGPT really felt like a conversation: I asked for some visualizations, ChatGPT created the code, I ran the code, and based on the result, I created the next prompt, either asking ChatGPT to fix an error, or to build a new visualization.\n",
    "\n",
    "Somehow this felt like \"real life\" (whatever that is 😉), in which I am a software consultant: A typical workflow in that business is writing a specification document, giving it to a developer who writes the code, and getting the result after some time. With ChatGPT, however, the iteration cycles are 1 to 2 orders of magnitude faster (quasi instant), and **iteration speed is essential**. Even a super-skilled human developer would be considerably slower, because ChatGPT is just \"[typing so much faster](https://twitter.com/ylecun/status/1625126386506797057)\". Without being overly enthusiastic, not all tasks are equally well-suited for this workflow with ChatGPT (as of today). The more complex the task are, the more \"random\" the result will get. With EDA ([GitHub](https://github.com/chrwittm/FastAI2022/blob/main/lesson05/titanic-eda-and-1r-v1.2.ipynb)/[Kaggle](https://www.kaggle.com/code/christianwittmann/titanic-eda-and-1r-with-chatgpt)), this interaction felt productive. For feature engineering ([GitHub](https://github.com/chrwittm/FastAI2022/blob/main/lesson05/titanic-feature-engineering-fastai-v1.2.ipynb)/[Kaggle](https://www.kaggle.com/code/christianwittmann/titanic-feature-engineering-fast-ai-model-creation)), I had to break down the task for ChatGPT into smaller chunks, and for model creation and fine tuning it, I took over in the end.\n",
    "\n",
    "The key to getting good results are well-stated prompts. It is really important to **be explicit in your prompts**: State what you really want, ChatGPT is not really great at reading between the lines, or extrapolating what might be inferred. As you go through the notebooks, you will see me make that mistake. But than again, by talking to ChatGPT, you can refine the prompts along the way. Or you can simply build upon the results. If ChatGPT produced a function/visualization you do not like, you can simply ask for a new version.\n",
    "\n",
    "But why are some coding tasks more difficult than others? The big limitation of ChatGPT is that it can neither run/debug the code or see the result the code produces, also it does not know the real data. All it can do is read the code and respond (with variations). Therefore, it is understandable that it makes mistakes or produces code which is syntactically incorrect. The best feature from ChatGPT on the other side is that you can talk though the bugs and resolve them quickly (_\"💬: There is an error: AssertionError: nan values in `Fare` but not in setup training set - can you please correct the code.\"_). This works surprisingly well, especially when it is related to the syntax of the code. Tweaking the output of working code, however, is a bigger challenge for ChatGPT because it can neither run/debug the code, read the data, or see the result the code produces. As you can see, you need to remain the driver of the conversion. But done correctly, **ChatGPT can be a great _\"productivity buddy\"_** where ChatGPT can to 80-90% of the work (i.e. write the code), and you take the role of the instructor / interpreter / reviewer."
   ]
  },
  {
   "attachments": {},
   "cell_type": "markdown",
   "metadata": {},
   "source": [
    "## You need to be the Eyes and Ears of ChatGPT\n",
    "\n",
    "For some tasks, however well prompted, ChatGPT struggles to produce great results when it needs the context of the real data, or if it should build on results the code it generated revealed. This is looping back to the same limitations I mentioned before. Let me illustrate what I mean via an example: In feature engineering, ChatGPT had no trouble writing a function to create new feature \"Age Group\" (_\"💬: Create a python functions to create the feature \"Age Group\"\"_). This prompt would create the following function (in the context of a discussion of the Titanic dataset):"
   ]
  },
  {
   "cell_type": "code",
   "execution_count": null,
   "metadata": {},
   "outputs": [],
   "source": [
    "def get_age_group(age):\n",
    "    \"\"\"\n",
    "    Bins the age column into different age groups\n",
    "    \"\"\"\n",
    "    if age < 18:\n",
    "        return 'Child'\n",
    "    elif age < 65:\n",
    "        return 'Adult'\n",
    "    else:\n",
    "        return 'Senior'"
   ]
  },
  {
   "attachments": {},
   "cell_type": "markdown",
   "metadata": {},
   "source": [
    "At first glance, this is reasonable, but it does not take into account, the specific content of our dataset. You could argue that the prompt was not very specific (which was intentional). The point I am trying to make is that ChatGPT creates bins which are logical, but they are not connected to the Titanic dataset. This is the case even though in EDA ([GitHub](https://github.com/chrwittm/FastAI2022/blob/main/lesson05/titanic-eda-and-1r-v1.2.ipynb)/[Kaggle](https://www.kaggle.com/code/christianwittmann/titanic-eda-and-1r-with-chatgpt)), jointly with ChatGPT, I created the following chart which illustrates the relation between age and chance of survival:\n",
    "\n",
    "![](survival-rate-by-age-group.png)\n",
    "\n",
    "We can see that small children had a much higher chance of survival (because they probably received the most help and preferential treatment) than any other age group, and people above the age of 60 had a significant lower chance of survival.\n",
    "\n",
    "ChatGPT cannot see this result even though it generated the code to create the visualization. Again, this is because it can neither run the code nor can it inspect the resulting graph, this remains a human task. But for the refinement, ChatGPT can assist:\n",
    "\n",
    "> 💬: Rewrite the get_age_group function to generate the following bins [0, 6, 12, 18, 30, 60, 100], name the bins appropriately\n",
    "\n",
    "Here is the resulting code:"
   ]
  },
  {
   "cell_type": "code",
   "execution_count": null,
   "metadata": {},
   "outputs": [],
   "source": [
    "def get_age_group(age):\n",
    "    \"\"\"\n",
    "    Returns the age group based on the given age.\n",
    "    \"\"\"\n",
    "    if pd.isnull(age):\n",
    "        return 'Unknown'\n",
    "    elif age <= 6:\n",
    "        return 'Infant'\n",
    "    elif age <= 12:\n",
    "        return 'Child'\n",
    "    elif age <= 18:\n",
    "        return 'Teenager'\n",
    "    elif age <= 30:\n",
    "        return 'Young Adult'\n",
    "    elif age <= 60:\n",
    "        return 'Adult'\n",
    "    else:\n",
    "        return 'Senior'"
   ]
  },
  {
   "attachments": {},
   "cell_type": "markdown",
   "metadata": {},
   "source": [
    "My notebooks contain more examples, but what we can take away is that you need to be the eyes and ears of ChatGPT. ChatGPT is great at generating a lot of code, but you need to interpret the results and guide the way from prompt to prompt. So far, ChatGPT cannot do this. AI cannot take over - yet."
   ]
  }
 ],
 "metadata": {
  "kernelspec": {
   "display_name": "Python 3 (ipykernel)",
   "language": "python",
   "name": "python3"
  },
  "language_info": {
   "codemirror_mode": {
    "name": "ipython",
    "version": 3
   },
   "file_extension": ".py",
   "mimetype": "text/x-python",
   "name": "python",
   "nbconvert_exporter": "python",
   "pygments_lexer": "ipython3",
   "version": "3.10.4"
  },
  "vscode": {
   "interpreter": {
    "hash": "d9da906b64701e68312bc07fbc15a3a13814f930718c2c6b0e41a29d035806a3"
   }
  }
 },
 "nbformat": 4,
 "nbformat_minor": 4
}
